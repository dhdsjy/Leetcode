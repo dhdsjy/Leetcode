{
 "cells": [
  {
   "cell_type": "markdown",
   "metadata": {},
   "source": [
    "A binary watch has 4 LEDs on the top which represent the hours (0-11), and the 6 LEDs on the bottom represent the minutes (0-59).\n",
    "\n",
    "Each LED represents a zero or one, with the least significant bit on the right.\n",
    "\n",
    "\n",
    "For example, the above binary watch reads \"3:25\".\n",
    "\n",
    "Given a non-negative integer n which represents the number of LEDs that are currently on, return all possible times the watch could represent.\n",
    "\n",
    "Example:\n",
    "\n",
    "Input: n = 1\n",
    "Return: [\"1:00\", \"2:00\", \"4:00\", \"8:00\", \"0:01\", \"0:02\", \"0:04\", \"0:08\", \"0:16\", \"0:32\"]\n",
    "Note:\n",
    "The order of output does not matter.\n",
    "The hour must not contain a leading zero, for example \"01:00\" is not valid, it should be \"1:00\".\n",
    "The minute must be consist of two digits and may contain a leading zero, for example \"10:2\" is not valid, it should be \"10:02\"."
   ]
  },
  {
   "cell_type": "markdown",
   "metadata": {},
   "source": [
    "### 一个比较笨的方法 枚举法\n",
    "时针最多有3根亮，最少0根 \n",
    "+ h0 1 种情况 [0]\n",
    "+ h1 $C_{4}^{1}$ [1,2,4,8]\n",
    "+ h2 $C_{4}^{2}$ [3,5,9,6,10] 12去掉\n",
    "+ h3 $C_{4}^{3}$ [7,11]\n",
    "\n",
    "分针最多5根亮，最少0根\n",
    "+ m0 1 [0]\n",
    "+ m1 $C_{5}^{1}$ []\n",
    "\n",
    "\n",
    "\n",
    "h = [[\"0\"],[\"1\", \"2\", \"4\", \"8\"],[\"3\", \"5\", \"6\", \"9\", \"10\"],[\"7\", \"11\"]]\n",
    "m = [[\"00\"],[\"01\", \"02\", \"04\", \"08\", \"16\", \"32\"],\n",
    "[\"03\", \"05\", \"06\", \"09\", \"10\", \"12\", \"17\", \"18\", \"20\", \"24\", \"33\", \"34\", \"36\", \"40\", \"48\"],\n",
    "[\"07\", \"11\", \"13\", \"14\", \"19\", \"21\", \"22\", \"25\", \"26\", \"28\", \"35\", \"37\", \"38\", \"41\", \"42\", \"44\", \"49\", \"50\", \"52\", \"56\"],\n",
    "[\"15\", \"23\", \"27\", \"29\", \"30\", \"39\", \"43\", \"45\", \"46\", \"51\", \"53\", \"54\", \"57\", \"58\"],\n",
    "[\"31\", \"47\", \"55\", \"59\"]]"
   ]
  },
  {
   "cell_type": "code",
   "execution_count": null,
   "metadata": {
    "collapsed": true
   },
   "outputs": [],
   "source": [
    "def readBinaryWatch(self, num):\n",
    "    h = [[\"0\"],[\"1\", \"2\", \"4\", \"8\"],[\"3\", \"5\", \"6\", \"9\", \"10\"],[\"7\", \"11\"]]\n",
    "    m = [[\"00\"],[\"01\", \"02\", \"04\", \"08\", \"16\", \"32\"],\n",
    "         [\"03\", \"05\", \"06\", \"09\", \"10\", \"12\", \"17\", \"18\", \"20\", \"24\", \"33\", \"34\", \"36\", \"40\", \"48\"],\n",
    "         [\"07\", \"11\", \"13\", \"14\", \"19\", \"21\", \"22\", \"25\", \"26\", \"28\", \"35\", \"37\", \"38\", \"41\", \"42\", \"44\", \"49\", \"50\", \"52\", \"56\"],\n",
    "         [\"15\", \"23\", \"27\", \"29\", \"30\", \"39\", \"43\", \"45\", \"46\", \"51\", \"53\", \"54\", \"57\", \"58\"],\n",
    "         [\"31\", \"47\", \"55\", \"59\"]]\n",
    "    \n",
    "    "
   ]
  },
  {
   "cell_type": "code",
   "execution_count": null,
   "metadata": {
    "collapsed": true
   },
   "outputs": [],
   "source": [
    "# python回溯解法 https://discuss.leetcode.com/topic/73134/python-solution-with-detailed-explanation\n",
    "\n",
    "class Solution(object):\n",
    "    def helper(self, N, hrs_so_far, mins_so_far, hidx, midx):\n",
    "        if N == 0:\n",
    "            self.results.append(\"%d:%02d\"%(hrs_so_far, mins_so_far))\n",
    "        else:\n",
    "            for i in range(midx, 6):\n",
    "                if mins_so_far|(1<<i) <= 59:\n",
    "                    self.helper(N-1, hrs_so_far, mins_so_far|1<<i, hidx, i+1)\n",
    "            for i in range(hidx, 4):\n",
    "                if hrs_so_far|(1<<i) <= 11:\n",
    "                    self.helper(N-1, hrs_so_far|1<<i, mins_so_far, i+1, 6)\n",
    "        return\n",
    "    \n",
    "    def readBinaryWatch(self, num):\n",
    "        \"\"\"\n",
    "        :type num: int\n",
    "        :rtype: List[str]\n",
    "        \"\"\"\n",
    "        self.results = []\n",
    "        hrs_so_far, mins_so_far, hidx, midx = 0, 0, 0, 0\n",
    "        self.helper(num, hrs_so_far, mins_so_far, hidx, midx)\n",
    "        return self.results"
   ]
  },
  {
   "cell_type": "code",
   "execution_count": null,
   "metadata": {
    "collapsed": true
   },
   "outputs": [],
   "source": [
    "# 一个非常简单的discuss 46ms 61.2%\n",
    "def readBinaryWatch(self, num):\n",
    "        \"\"\"\n",
    "        :type num: int\n",
    "        :rtype: List[str]\n",
    "        \"\"\"\n",
    "        return ['%d:%02d' % (h, m)\n",
    "            for h in range(12) for m in range(60)\n",
    "            if (bin(h) + bin(m)).count('1') == num]"
   ]
  },
  {
   "cell_type": "code",
   "execution_count": null,
   "metadata": {
    "collapsed": true
   },
   "outputs": [],
   "source": [
    "# dfs解法 https://discuss.leetcode.com/topic/60319/python-dfs-and-complexity-analysis/2\n",
    "class Solution(object):\n",
    "    def readBinaryWatch(self, n):\n",
    "        \n",
    "        def dfs(n, hours, mins, idx):\n",
    "            if hours >= 12 or mins > 59: return\n",
    "            if not n:\n",
    "                res.append(str(hours) + \":\" + \"0\" * (mins < 10) + str(mins))\n",
    "                return\n",
    "            for i in range(idx, 10):\n",
    "                if i < 4: \n",
    "                    dfs(n - 1, hours | (1 << i), mins, i + 1)\n",
    "                else:\n",
    "                    k = i - 4\n",
    "                    dfs(n - 1, hours, mins | (1 << k), i + 1)\n",
    "        \n",
    "        res = []\n",
    "        dfs(n, 0, 0, 0)\n",
    "        return res\n",
    "    \n",
    "    \n",
    "    \n",
    "    # 另一个dfs https://discuss.leetcode.com/topic/59477/simple-easy-python-dfs-solution\n",
    "    def readBinaryWatch(self, num):\n",
    "    \"\"\"\n",
    "    :type num: int\n",
    "    :rtype: List[str]\n",
    "    \"\"\"\n",
    "    nums = [1,2,4,8,16,32,100,200,400,800]\n",
    "    res = []\n",
    "    self.dfs(nums, 0, 0, num, 0, res)\n",
    "    return res\n",
    "\n",
    "def dfs(self, nums, level, idx, num, path, res):\n",
    "    if level == num:\n",
    "        hours = path/100\n",
    "        minutes = path%100\n",
    "        if hours > 11 or minutes > 59:\n",
    "            return\n",
    "        elif minutes < 10:\n",
    "            res.append(str(hours)+\":\"+\"0\"+str(minutes))\n",
    "            return\n",
    "        else:\n",
    "            res.append(str(hours)+\":\"+str(minutes))\n",
    "            return\n",
    "        \n",
    "    for i in range(idx, len(nums)):\n",
    "        self.dfs(nums, level+1, i+1, num, path+nums[i], res)\n"
   ]
  },
  {
   "cell_type": "code",
   "execution_count": null,
   "metadata": {
    "collapsed": true
   },
   "outputs": [],
   "source": [
    "# itertools https://discuss.leetcode.com/topic/59388/python-ac-soutien-using-itertools\n",
    "import itertools\n",
    "class Solution(object):\n",
    "    def convert(self,l): # print the result\n",
    "        res = []\n",
    "        for pair in l:\n",
    "            h , m = pair[0] , pair[1]\n",
    "            for i in h:\n",
    "                for j in m:\n",
    "                    t = i + ':'\n",
    "                    t = t + '0' + j if len(j) == 1 else t + j\n",
    "                    res += [t]\n",
    "                    t = ''\n",
    "        return res\n",
    "    def readBinaryWatch(self, num):\n",
    "        \"\"\"\n",
    "        :type num: int\n",
    "        :rtype: List[str]\n",
    "        \"\"\"\n",
    "        hour , minute , tem = [1,2,4,8] , [1,2,4,8,16,32] ,[ ]\n",
    "        \n",
    "        for i in range(num + 1):\n",
    "            m = num - i\n",
    "            if i > 0:\n",
    "                combination1 = itertools.combinations(hour, i) # all possible hour\n",
    "                hh = set()\n",
    "                for i in combination1:\n",
    "                    if sum(i) < 12: # just keep vaild hour\n",
    "                        hh.add(str(sum(i))) \n",
    "            else:\n",
    "                hh = set('0')\n",
    "            \n",
    "            if m > 0:\n",
    "                combination2 = itertools.combinations(minute, m) # all possible minute\n",
    "                mm = set()\n",
    "                for i in combination2:\n",
    "                    if sum(i) < 60: # just keep  vaild minute\n",
    "                        mm.add(str(sum(i))) \n",
    "            else:\n",
    "                mm = set('00')\n",
    "            \n",
    "            tem.append([hh,mm])\n",
    "        return self.convert(tem)"
   ]
  },
  {
   "cell_type": "code",
   "execution_count": null,
   "metadata": {
    "collapsed": true
   },
   "outputs": [],
   "source": [
    "# beat 99  https://discuss.leetcode.com/topic/63252/python-solution-that-beats-99-of-submissions\n",
    "class Solution(object):\n",
    "    def readBinaryWatch(self, num):\n",
    "        \"\"\"\n",
    "        :type num: int\n",
    "        :rtype: List[str]\n",
    "        \"\"\"\n",
    "        hourMap = { i:self.getNumOnes(i) for i in xrange(12) }\n",
    "        minuteMap = { i:self.getNumOnes(i)  for i in xrange(60) }\n",
    "        result = []\n",
    "        for hour in filter(lambda x: self.getNumOnes(x)<=num , xrange(12)):\n",
    "            hourOnes = self.getNumOnes(hour)\n",
    "            result += [\"%s\" % hour + \":\" + (\"%s\" % minute).zfill(2) for minute in filter(lambda x: self.getNumOnes(x) == num-hourOnes  , xrange(60) ) ]\n",
    "        return result\n",
    "        \n",
    "    def getNumOnes(self, num):\n",
    "        counter = 0\n",
    "        while(num):\n",
    "            counter += num & 1\n",
    "            num = num >> 1\n",
    "        return counter "
   ]
  }
 ],
 "metadata": {
  "kernelspec": {
   "display_name": "Python 2",
   "language": "python",
   "name": "python2"
  },
  "language_info": {
   "codemirror_mode": {
    "name": "ipython",
    "version": 2
   },
   "file_extension": ".py",
   "mimetype": "text/x-python",
   "name": "python",
   "nbconvert_exporter": "python",
   "pygments_lexer": "ipython2",
   "version": "2.7.12"
  }
 },
 "nbformat": 4,
 "nbformat_minor": 0
}
