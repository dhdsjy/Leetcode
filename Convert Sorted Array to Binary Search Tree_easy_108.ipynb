{
 "cells": [
  {
   "cell_type": "markdown",
   "metadata": {},
   "source": [
    "Given an array where elements are sorted in ascending order, convert it to a height balanced BST.\n",
    "\n"
   ]
  },
  {
   "cell_type": "markdown",
   "metadata": {},
   "source": [
    "表示看到这个题目很懵逼，将升序数组转化为一个高度平衡的二分搜索树\n",
    "首先，这个怎么转化？从中间开始\n",
    "其次，转化后，如何储存为树的结构？？\n",
    "\n",
    "还是要撸一遍Python版的树代码\n",
    "[BST定义的一个讨论](https://discuss.leetcode.com/topic/718/the-definition-of-height-balanced-bst)\n"
   ]
  },
  {
   "cell_type": "code",
   "execution_count": null,
   "metadata": {
    "collapsed": true
   },
   "outputs": [],
   "source": [
    "## Discuss\n",
    "### method 1\n",
    "class Solution:\n",
    "    # @param num, a list of integers\n",
    "    # @return a tree node\n",
    "    # 12:37\n",
    "    def sortedArrayToBST(self, num):\n",
    "        if not num:\n",
    "            return None\n",
    "\n",
    "        mid = len(num) // 2\n",
    "\n",
    "        root = TreeNode(num[mid])\n",
    "        root.left = self.sortedArrayToBST(num[:mid])\n",
    "        root.right = self.sortedArrayToBST(num[mid+1:])\n",
    "\n",
    "        return root"
   ]
  }
 ],
 "metadata": {
  "kernelspec": {
   "display_name": "Python 2",
   "language": "python",
   "name": "python2"
  },
  "language_info": {
   "codemirror_mode": {
    "name": "ipython",
    "version": 2
   },
   "file_extension": ".py",
   "mimetype": "text/x-python",
   "name": "python",
   "nbconvert_exporter": "python",
   "pygments_lexer": "ipython2",
   "version": "2.7.12"
  }
 },
 "nbformat": 4,
 "nbformat_minor": 0
}
