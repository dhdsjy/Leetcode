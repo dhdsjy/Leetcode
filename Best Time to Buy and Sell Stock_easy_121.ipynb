{
 "cells": [
  {
   "cell_type": "markdown",
   "metadata": {},
   "source": [
    "Say you have an array for which the ith element is the price of a given stock on day i.\n",
    "\n",
    "If you were only permitted to complete at most one transaction (ie, buy one and sell one share of the stock), design an algorithm to find the maximum profit.\n",
    "\n",
    "Example 1:\n",
    "Input: [7, 1, 5, 3, 6, 4]\n",
    "Output: 5\n",
    "\n",
    "max. difference = 6-1 = 5 (not 7-1 = 6, as selling price needs to be larger than buying price)\n",
    "Example 2:\n",
    "Input: [7, 6, 4, 3, 1]\n",
    "Output: 0\n",
    "\n",
    "In this case, no transaction is done, i.e. max profit = 0."
   ]
  },
  {
   "cell_type": "code",
   "execution_count": null,
   "metadata": {
    "collapsed": true
   },
   "outputs": [],
   "source": [
    "# 先看看别人的动态规划怎么写的吧。。自己想不出来啊 一想脑子很快就浆糊了 理不清逻辑\n",
    "\n",
    "## Kadane's Algorithm\n",
    "public int maxProfit(int[] prices) {\n",
    "        int maxCur = 0, maxSoFar = 0;\n",
    "        for(int i = 1; i < prices.length; i++) {\n",
    "            maxCur = Math.max(0, maxCur += prices[i] - prices[i-1]);\n",
    "            maxSoFar = Math.max(maxCur, maxSoFar);\n",
    "        }\n",
    "        return maxSoFar;\n",
    "    }\n",
    "# *maxCur = current maximum value\n",
    "\n",
    "# *maxSoFar = maximum value found so far"
   ]
  },
  {
   "cell_type": "code",
   "execution_count": null,
   "metadata": {
    "collapsed": true
   },
   "outputs": [],
   "source": [
    "## dp\n",
    "class Solution:\n",
    "    # @param prices, a list of integer\n",
    "    # @return an integer\n",
    "    def maxProfit(self, prices):\n",
    "        if not prices : return 0\n",
    "        ans ,money,n = 0 ,prices[0],len(prices)\n",
    "        for i in range(n):\n",
    "            ans=max(ans,prices[i]-money)\n",
    "            money = min(prices[i],money)\n",
    "        return ans"
   ]
  },
  {
   "cell_type": "code",
   "execution_count": null,
   "metadata": {
    "collapsed": true
   },
   "outputs": [],
   "source": [
    "## method 2 并不一定要动态规划啊 这个方法就很好  58ms 49% 这就是动态规划，只是比较容易想到 minprice maxPro 都是在不断更新的\n",
    "class Solution(object):\n",
    "    def maxProfit(self, prices):\n",
    "        \"\"\"\n",
    "        :type prices: List[int]\n",
    "        :rtype: int\n",
    "        \"\"\"\n",
    "        minprice = float('inf')\n",
    "        maxPro = 0\n",
    "        for i in range(len(prices)): \n",
    "            minprice = min(minprice,prices[i])\n",
    "            maxPro = max(maxPro,prices[i]-minprice)\n",
    "        return maxPro"
   ]
  },
  {
   "cell_type": "code",
   "execution_count": null,
   "metadata": {
    "collapsed": true
   },
   "outputs": [],
   "source": []
  },
  {
   "cell_type": "code",
   "execution_count": null,
   "metadata": {
    "collapsed": true
   },
   "outputs": [],
   "source": [
    "## method 3 38ms 和method的逻辑一样 可能是xrange?\n",
    "class Solution(object):\n",
    "    def maxProfit(self, prices):\n",
    "        \"\"\"\n",
    "        :type prices: List[int]\n",
    "        :rtype: int\n",
    "        \"\"\"\n",
    "        if len(prices) < 2: return 0\n",
    "        buy = prices[0]\n",
    "        sale = 0\n",
    "        profit = 0\n",
    "        for i in xrange(len(prices)):\n",
    "            if prices[i] < buy: \n",
    "                buy = prices[i]\n",
    "            elif prices[i] > buy: \n",
    "                sale = prices[i]  \n",
    "                if sale - buy > profit:\n",
    "                    profit = sale - buy\n",
    "        if sale == 0: return 0\n",
    "        return profit"
   ]
  },
  {
   "cell_type": "code",
   "execution_count": null,
   "metadata": {
    "collapsed": true
   },
   "outputs": [],
   "source": [
    "## 还没看\n",
    "# DP\n",
    "def maxProfit1(self, prices):\n",
    "    if not prices:\n",
    "        return 0\n",
    "    loc = glo = 0\n",
    "    for i in xrange(1, len(prices)):\n",
    "        loc = max(loc+prices[i]-prices[i-1], 0)\n",
    "        glo = max(glo, loc)\n",
    "    return glo\n",
    "    \n",
    "def maxProfit2(self, prices):\n",
    "    if not prices:\n",
    "        return 0\n",
    "    minPri, maxPro = prices[0], 0\n",
    "    for i in xrange(1, len(prices)):\n",
    "        minPri = min(minPri, prices[i])\n",
    "        maxPro = max(maxPro, prices[i]-minPri)\n",
    "    return maxPro\n",
    "    \n",
    "# Reuse maximum subarray method\n",
    "def maxProfit(self, prices):\n",
    "    if not prices or len(prices) == 1:\n",
    "        return 0\n",
    "    dp = [0] * len(prices)\n",
    "    for i in xrange(1, len(prices)):\n",
    "        dp[i] = prices[i]-prices[i-1]\n",
    "    glo = loc = dp[0]\n",
    "    for i in xrange(1, len(dp)):\n",
    "        loc = max(loc+dp[i], dp[i])\n",
    "        glo = max(glo, loc)\n",
    "    return glo"
   ]
  }
 ],
 "metadata": {
  "kernelspec": {
   "display_name": "Python 2",
   "language": "python",
   "name": "python2"
  },
  "language_info": {
   "codemirror_mode": {
    "name": "ipython",
    "version": 2
   },
   "file_extension": ".py",
   "mimetype": "text/x-python",
   "name": "python",
   "nbconvert_exporter": "python",
   "pygments_lexer": "ipython2",
   "version": "2.7.12"
  }
 },
 "nbformat": 4,
 "nbformat_minor": 0
}
