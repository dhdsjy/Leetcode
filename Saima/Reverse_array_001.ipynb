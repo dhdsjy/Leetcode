{
 "cells": [
  {
   "cell_type": "markdown",
   "metadata": {},
   "source": [
    "翻转数组\n",
    "\n",
    "题目描述\n",
    "\t\t\t\t\t\t\t\t\t\n",
    "给定一个长度为n的整数数组a，元素均不相同，问数组是否存在这样一个片段，只将该片段翻转就可以使整个数组升序排列。其中数组片段[l,r]表示序列a[l], a[l+1], ..., a[r]。原始数组为\n",
    "a[1], a[2], ..., a[l-2], a[l-1], a[l], a[l+1], ..., a[r-1], a[r], a[r+1], a[r+2], ..., a[n-1], a[n]，\n",
    "将片段[l,r]反序后的数组是\n",
    "a[1], a[2], ..., a[l-2], a[l-1], a[r], a[r-1], ..., a[l+1], a[l], a[r+1], a[r+2], ..., a[n-1], a[n]。\n",
    "\n",
    "\t\t\t\t\t\t\t\t\n",
    "+ 输入\n",
    "第一行数据是一个整数：n (1≤n≤105)，表示数组长度。\n",
    "第二行数据是n个整数a[1], a[2], ..., a[n] (1≤a[i]≤109)。\n",
    "+ 样例输入\n",
    "+ 4\n",
    "+ 2 1 3 4\n",
    "+ 输出\n",
    "输出“yes”，如果存在；否则输出“no”，不用输出引号。\n",
    "样例输出\n",
    "yes\n",
    "时间限制\n",
    "C/C++语言：1000MS 其它语言：3000MS\t\n",
    "内存限制"
   ]
  },
  {
   "cell_type": "code",
   "execution_count": 9,
   "metadata": {
    "collapsed": false
   },
   "outputs": [
    {
     "name": "stdout",
     "output_type": "stream",
     "text": [
      "please input a int :4\n",
      "1 2 4 3\n"
     ]
    },
    {
     "ename": "NameError",
     "evalue": "name 'R' is not defined",
     "output_type": "error",
     "traceback": [
      "\u001b[1;31m---------------------------------------------------------------------------\u001b[0m",
      "\u001b[1;31mNameError\u001b[0m                                 Traceback (most recent call last)",
      "\u001b[1;32m<ipython-input-9-5877efa25fc1>\u001b[0m in \u001b[0;36m<module>\u001b[1;34m()\u001b[0m\n\u001b[0;32m     15\u001b[0m             \u001b[1;32mif\u001b[0m \u001b[0mn_array\u001b[0m\u001b[1;33m[\u001b[0m\u001b[0mj\u001b[0m\u001b[1;33m]\u001b[0m \u001b[1;33m==\u001b[0m \u001b[0msorted_n_array\u001b[0m\u001b[1;33m[\u001b[0m\u001b[0mj\u001b[0m\u001b[1;33m]\u001b[0m\u001b[1;33m:\u001b[0m\u001b[1;33m\u001b[0m\u001b[0m\n\u001b[0;32m     16\u001b[0m                 \u001b[0mR\u001b[0m \u001b[1;33m=\u001b[0m \u001b[0mj\u001b[0m\u001b[1;33m-\u001b[0m\u001b[1;36m1\u001b[0m\u001b[1;33m\u001b[0m\u001b[0m\n\u001b[1;32m---> 17\u001b[1;33m     \u001b[0marr_rev\u001b[0m \u001b[1;33m=\u001b[0m \u001b[0mn_array\u001b[0m\u001b[1;33m[\u001b[0m\u001b[0mL\u001b[0m\u001b[1;33m:\u001b[0m\u001b[0mR\u001b[0m\u001b[1;33m]\u001b[0m\u001b[1;33m.\u001b[0m\u001b[0mreverse\u001b[0m\u001b[1;33m(\u001b[0m\u001b[1;33m)\u001b[0m\u001b[1;33m\u001b[0m\u001b[0m\n\u001b[0m\u001b[0;32m     18\u001b[0m     \u001b[1;32mif\u001b[0m \u001b[0marr_rev\u001b[0m \u001b[1;33m==\u001b[0m \u001b[0msorted_n_array\u001b[0m\u001b[1;33m[\u001b[0m\u001b[0mL\u001b[0m\u001b[1;33m:\u001b[0m\u001b[0mR\u001b[0m\u001b[1;33m]\u001b[0m\u001b[1;33m:\u001b[0m\u001b[1;33m\u001b[0m\u001b[0m\n\u001b[0;32m     19\u001b[0m         \u001b[1;32mprint\u001b[0m \u001b[1;34m'yes'\u001b[0m\u001b[1;33m\u001b[0m\u001b[0m\n",
      "\u001b[1;31mNameError\u001b[0m: name 'R' is not defined"
     ]
    }
   ],
   "source": [
    "# my solution\n",
    "\n",
    "n = raw_input('please input a int :')\n",
    "n_array = map(int, raw_input().split())\n",
    "len_array = len(n_array)\n",
    "\n",
    "sorted_n_array = sorted(n_array)\n",
    "\n",
    "for i in range(len_array):\n",
    "    if n_array[i] == sorted_n_array[i]:\n",
    "        continue\n",
    "    else:\n",
    "        L = i\n",
    "        for j in range(i+1,len_array):\n",
    "            if n_array[j] == sorted_n_array[j]:\n",
    "                R = j-1               \n",
    "    arr_rev = n_array[L:R].reverse()\n",
    "    if arr_rev == sorted_n_array[L:R]:\n",
    "        print 'yes'\n",
    "    else:\n",
    "        print 'no'"
   ]
  },
  {
   "cell_type": "markdown",
   "metadata": {},
   "source": [
    "### 我的解题思路\n",
    "自己的思路好像不对，感觉自己想到的方法特别low。。 没有深入理解题意 编程题应该先想好 再动手\n",
    "### 思路解析\n",
    "题目的核心是**问数组是否存在这样一个片段** 不需要想是否有好几个分开的片段啥的 自己给他想复杂了 不用考虑这些不连续的情况，我只要将找到的不同放到一个list中就可以了，然后翻转，看看能不能达到题目要求就行"
   ]
  },
  {
   "cell_type": "code",
   "execution_count": 11,
   "metadata": {
    "collapsed": true
   },
   "outputs": [],
   "source": [
    "# Discuss\n",
    "## method 1 非常好的一个解法\n",
    "while 1:\n",
    "    n=raw_input()\n",
    "    if n!=\"\":\n",
    "        n=int(n)\n",
    "        a=[int(i) for i in raw_input().split()]\n",
    "        b=sorted(a)\n",
    "        c=[a[i] for i in range(n) if a[i]!=b[i]]\n",
    "        start=a.index(c[0])\n",
    "        end=a.index(c[-1])\n",
    "        if a[:start]+list(reversed(a[start:end+1]))+a[end+1:]==b:\n",
    "            print \"yes\"\n",
    "        else:\n",
    "            print \"no\"\n",
    "    else:\n",
    "        break"
   ]
  },
  {
   "cell_type": "markdown",
   "metadata": {},
   "source": [
    "### 收获\n",
    "#### **list index** \n",
    "+ **语法** L.index(value, [start, [stop]]) \n",
    "+ **功能** 用于从列表中找出某个值第一个匹配项的索引位置 ；\n",
    "+ **返回值** 该方法返回查找对象的索引位置，如果没有找到对象则抛出异常\n",
    "\n",
    "#### **str index**\n",
    "+ **语法** S.index(sub [,start [,end]])\n",
    "+ **功能** 检测字符串中是否包含子字符串 sub ，如果指定 beg（开始） 和 end（结束） 范围，则检查是否包含在指定范围内，该方法与 python find()方法一样，只不过如果sub不在 string中会报一个异常。\n",
    "+ **返回值** 如果包含子字符串返回子字符串开始的索引值，否则抛出异常。"
   ]
  }
 ],
 "metadata": {
  "kernelspec": {
   "display_name": "Python 2",
   "language": "python",
   "name": "python2"
  },
  "language_info": {
   "codemirror_mode": {
    "name": "ipython",
    "version": 2
   },
   "file_extension": ".py",
   "mimetype": "text/x-python",
   "name": "python",
   "nbconvert_exporter": "python",
   "pygments_lexer": "ipython2",
   "version": "2.7.12"
  }
 },
 "nbformat": 4,
 "nbformat_minor": 0
}
