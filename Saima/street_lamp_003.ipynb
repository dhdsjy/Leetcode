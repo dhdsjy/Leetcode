{
 "cells": [
  {
   "cell_type": "markdown",
   "metadata": {},
   "source": [
    "路灯\n",
    "\n",
    "\t\t\t\t\t\t\t\t\t题目描述\n",
    "\t\t\t\t\t\t\t\t\t\n",
    "V先生有一天工作到很晚，回家的时候要穿过一条长l的笔直的街道，这条街道上有n个路灯。假设这条街起点为0，终点为l，第i个路灯坐标为ai。路灯发光能力以正数d来衡量，其中d表示路灯能够照亮的街道上的点与路灯的最远距离，所有路灯发光能力相同。为了让V先生看清回家的路，路灯必须照亮整条街道，又为了节省电力希望找到最小的d是多少？\n",
    "\n",
    "\t\t\t\t\t\t\t\t\n",
    "输入\n",
    "输入两行数据，第一行是两个整数：路灯数目n (1≤n≤1000)，街道长度l (1 ≤l≤109)。第二行有n个整数ai (0 ≤ ai≤ l)，表示路灯坐标，多个路灯可以在同一个点，也可以安放在终点位置。\n",
    "样例输入\n",
    "7 15\n",
    "15 5 3 7 9 14 0\n",
    "\n",
    "输出\n",
    "输出能够照亮整个街道的最小d，保留两位小数。\n",
    "样例输出\n",
    "2.50\n",
    "时间限制\n",
    "C/C++语言：1000MS其它语言：3000MS\t\n",
    "内存限制\n",
    "C/C++语言：65536KB其它语言：589824KB"
   ]
  },
  {
   "cell_type": "markdown",
   "metadata": {},
   "source": [
    " ## my solution \n",
    " 并没有写出自己的代码 一碰到这种数学能力比较强的题目就不会，所以还是数学能力不过关！！但是我也想到了将坐标排序，但是不知道下一步怎么处理，脑子不够使，陷在细节里出不来了！get不到解决这个问题的点，可能是编程思维还没有养成！\n",
    " \n",
    " ## 小感悟\n",
    " 编程就是人类发出命令，剩下的细枝末节交给计算机处理就好了，你只要负责发对你的命令就好了！而发对命令，感觉可以经过以下几个层次\n",
    " + 熟悉你带的兵（也就是你所使用的编程语言），了解他们的特长，合理利用\n",
    " + 熟悉兵法（也就是数据结构与算法了），熟悉了兵法，你才能运筹帷幄\n",
    " + 了解你的敌人 分析你的敌人，找到敌人的致命弱点\n",
    " + 分析敌情后，发出正确的命令，剩下的交给小兵吧\n"
   ]
  },
  {
   "cell_type": "code",
   "execution_count": null,
   "metadata": {
    "collapsed": true
   },
   "outputs": [],
   "source": [
    "# Discuss\n",
    "## method\n",
    "line = raw_input()\n",
    "n, l = map(int, line.split()) # 这两个输入写的相当漂亮！\n",
    "a = raw_input()\n",
    "a = map(int, a.split())\n",
    "a = sorted(a)\n",
    "distance = 0\n",
    "for i in range(0,n):\n",
    "    if a[i]-a[i-1]>distance:\n",
    "        distance = a[i]-a[i-1]\n",
    "distance = max(distance/2.0, a[0], l-a[-1])\n",
    "print '%.2f' %(distance)"
   ]
  }
 ],
 "metadata": {
  "kernelspec": {
   "display_name": "Python 2",
   "language": "python",
   "name": "python2"
  },
  "language_info": {
   "codemirror_mode": {
    "name": "ipython",
    "version": 2
   },
   "file_extension": ".py",
   "mimetype": "text/x-python",
   "name": "python",
   "nbconvert_exporter": "python",
   "pygments_lexer": "ipython2",
   "version": "2.7.12"
  }
 },
 "nbformat": 4,
 "nbformat_minor": 0
}
