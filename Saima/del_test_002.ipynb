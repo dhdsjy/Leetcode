{
 "cells": [
  {
   "cell_type": "markdown",
   "metadata": {},
   "source": [
    "约德尔测试\n",
    "\n",
    "\t\t\t\t\t\t\t\t\t题目描述\n",
    "\t\t\t\t\t\t\t\t\t\n",
    "兰博和提莫闲聊之后，回归到了他们的正题，约德尔人的未来。\n",
    "说起约德尔人的未来，黑默丁格曾经提出了一个约德尔测试，将约德尔人的历史的每个阶段都用一个字符表达出来。(包括可写字符,不包括空格。)。然后将这个字符串转化为一个01串。转化规则是如果这个字符如果是字母或者数字，这个字符变为1,其它变为0。然后将这个01串和黑默丁格观测星空得到的01串做比较，得到一个相似率。相似率越高,则约德尔的未来越光明。\n",
    "请问:相似率为多少？\n",
    "\n",
    "\t\t\t\t\t\t\t\t\n",
    "输入\n",
    "每组输入数据为两行，第一行为有关约德尔人历史的字符串，第二行是黑默丁格观测星空得到的字符串。\n",
    "(两个字符串的长度相等,字符串长度不小于1且不超过1000。)\n",
    "样例输入\n",
    "@!%12dgsa\n",
    "010111100\n",
    "输出\n",
    "输出一行，在这一行输出相似率。用百分数表示。(相似率为相同字符的个数/总个数,精确到百分号小数点后两位。printf(\"%%\");输出一个%。)\n",
    "样例输出\n",
    "66.67%\n",
    "时间限制\n",
    "C/C++语言：1000MS其它语言：3000MS\t\n",
    "内存限制\n",
    "C/C++语言：65536KB其它语言：589824KB\n"
   ]
  },
  {
   "cell_type": "code",
   "execution_count": null,
   "metadata": {
    "collapsed": false
   },
   "outputs": [
    {
     "name": "stdout",
     "output_type": "stream",
     "text": [
      "qw23\n",
      "0101\n",
      "50.00%\n",
      "生栋覆屋erert\n",
      "111111111\n",
      "11.11%\n",
      "as暗示\n",
      "1111\n",
      "50.00%\n"
     ]
    }
   ],
   "source": [
    " # my solution\n",
    "while 1:# 输入多组数据的写法\n",
    "    his_str = raw_input()\n",
    "    star_str = raw_input()\n",
    "    tran_list = []\n",
    "    if str != ' ':\n",
    "        for i in list(his_str):\n",
    "            #if (0<=int(i)<=9 | 65<=int(i)<=96 | 97<=int(i)<=128):#  这种写法没问题的,修改前\n",
    "            if (i.isdigit() or i.isalpha()):#修改后\n",
    "                i = '1'\n",
    "                tran_list.append(i)\n",
    "            else:\n",
    "                i = '0'\n",
    "                tran_list.append(i)  # method 2 的一个return解决了重复的代码\n",
    "    else:\n",
    "        break\n",
    "    trans_str = ''.join(tran_list)\n",
    "    count = 0\n",
    "    for i in range(len(star_str)):\n",
    "        if trans_str[i] == star_str[i]:\n",
    "            count += 1\n",
    "    frac = count/float(len(star_str)) * 100\n",
    "    \n",
    "    print '%.2f%%'%frac "
   ]
  },
  {
   "cell_type": "code",
   "execution_count": 4,
   "metadata": {
    "collapsed": false
   },
   "outputs": [
    {
     "name": "stdout",
     "output_type": "stream",
     "text": [
      "qwe12\n",
      "01111\n",
      "80.00%\n"
     ]
    }
   ],
   "source": [
    "# Discuss\n",
    "## method 1\n",
    "string = raw_input()\n",
    "length = len(string)\n",
    "number = [int(x) for x in raw_input()]\n",
    "result = []\n",
    "for x in string:\n",
    "    result.append((1 if (x.isdigit() or x.isalpha()) else 0))\n",
    "sum_ = 0\n",
    "for x, y in zip(number, result):\n",
    "    if x == y:\n",
    "        sum_ += 1\n",
    "# print sum_\n",
    "print \"%.2f%%\" % (sum_ / float(length) * 100)\n",
    "\n",
    "## 精妙之处\n",
    "### 1.输入的处理 明明是同样的东西，作者巧妙的将一个视为字符串，一个视为列表（方便用列表推导式转化为整型）\n",
    "### 2.zip的妙用 增强了代码的可读性，且降低了代码的复杂度"
   ]
  },
  {
   "cell_type": "code",
   "execution_count": null,
   "metadata": {
    "collapsed": true
   },
   "outputs": [],
   "source": [
    "## method 2\n",
    "def get_num(sky):\n",
    "    s2 = ''\n",
    "    for c in range(len(sky)):\n",
    "        if (ord(sky[c]) >= ord('a') and ord(sky[c]) <= ord('z')) or (ord(sky[c]) >= ord('A') and ord(sky[c]) <= ord('Z')) or (ord(sky[c]) >= ord('0') and ord(sky[c]) <= ord('9')):\n",
    "            s2 += '1'# 字符串也可以加？厉害了\n",
    "        else:\n",
    "            s2 +=  '0'\n",
    "    return s2\n",
    "def get_sim(s1,s2):\n",
    "    length = len(s1)\n",
    "    count = 0\n",
    "    for i in xrange(length):\n",
    "        if s1[i] == s2[i]:\n",
    "            count += 1\n",
    "    return float(1.0 * count/length)\n",
    "hmd = raw_input().strip()\n",
    "sky = raw_input().strip()\n",
    "s1 = get_num(hmd)\n",
    "print \"%.2f%%\" % (get_sim(s1,sky)*100)"
   ]
  },
  {
   "cell_type": "code",
   "execution_count": null,
   "metadata": {
    "collapsed": true
   },
   "outputs": [],
   "source": [
    "# method 3 一个思路一样的代码 然而人家ac 了 我没有\n",
    "hstr = raw_input()\n",
    "sky = raw_input()\n",
    "hist = []\n",
    "for x in hstr:\n",
    "    if 48 <= ord(x) <= 57 or 65 <= ord(x) <= 90 or 97 <= ord(x) <= 122:\n",
    "        hist.append(1)\n",
    "    else:\n",
    "        hist.append(0)\n",
    "count = 0\n",
    "for i in range(len(hist)):\n",
    "    if hist[i]==int(sky[i]):\n",
    "        count = count+1\n",
    "sim = count/(len(hist)*1.0)*100\n",
    "print '%.2f'%sim+'%'"
   ]
  },
  {
   "cell_type": "markdown",
   "metadata": {},
   "source": [
    "### 收获\n",
    "#### **Python isalnum()** \n",
    "**语法** str.isalnum() 无参数\n",
    "**功能**方法检测字符串是否由字母和数字组成。\n",
    "**返回值** 如果 string 至少有一个字符并且所有字符都是字母或数字则返回 True,否则返回 False\n",
    "\n",
    "#### 字符串也是可以进行加法运算的，不用转成list进行相关操作\n"
   ]
  }
 ],
 "metadata": {
  "kernelspec": {
   "display_name": "Python 2",
   "language": "python",
   "name": "python2"
  },
  "language_info": {
   "codemirror_mode": {
    "name": "ipython",
    "version": 2
   },
   "file_extension": ".py",
   "mimetype": "text/x-python",
   "name": "python",
   "nbconvert_exporter": "python",
   "pygments_lexer": "ipython2",
   "version": "2.7.12"
  }
 },
 "nbformat": 4,
 "nbformat_minor": 0
}
