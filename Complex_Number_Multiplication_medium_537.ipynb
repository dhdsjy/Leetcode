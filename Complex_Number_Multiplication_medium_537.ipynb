{
 "cells": [
  {
   "cell_type": "markdown",
   "metadata": {
    "collapsed": true
   },
   "source": [
    "# Description\n",
    "\"\"\"\n",
    "Given two strings representing two complex numbers.\n",
    "\n",
    "You need to return a string representing their multiplication. Note i2 = -1 according to the definition.\n",
    "\"\"\"\n",
    "# Example\n",
    "\"\"\"\n",
    "Input: \"1+1i\", \"1+1i\"\n",
    "Output: \"0+2i\"\n",
    "Explanation: (1 + i) * (1 + i) = 1 + i2 + 2 * i = 2i, and you need convert it to the form of 0+2i.\n",
    "\n",
    "\n",
    "Input: \"1+-1i\", \"1+-1i\"\n",
    "Output: \"0+-2i\"\n",
    "Explanation: (1 - i) * (1 - i) = 1 + i2 - 2 * i = -2i, and you need convert it to the form of 0+-2i.\n",
    "\"\"\"\n",
    "\n",
    "# Note\n",
    "\"\"\"\n",
    "The input strings will not have extra blank.\n",
    "The input strings will be given in the form of a+bi,\n",
    "where the integer a and b will both belong to the range of [-100, 100]. And the output should be also in this form.\n",
    "Subscribe to see which companies asked this question.\n",
    "\"\"\""
   ]
  },
  {
   "cell_type": "code",
   "execution_count": 3,
   "metadata": {
    "collapsed": false
   },
   "outputs": [
    {
     "ename": "TypeError",
     "evalue": "object of type 'int' has no len()",
     "output_type": "error",
     "traceback": [
      "\u001b[1;31m---------------------------------------------------------------------------\u001b[0m",
      "\u001b[1;31mTypeError\u001b[0m                                 Traceback (most recent call last)",
      "\u001b[1;32m<ipython-input-3-d64b1105bda9>\u001b[0m in \u001b[0;36m<module>\u001b[1;34m()\u001b[0m\n\u001b[0;32m     60\u001b[0m \u001b[1;33m\u001b[0m\u001b[0m\n\u001b[0;32m     61\u001b[0m \u001b[0ms\u001b[0m \u001b[1;33m=\u001b[0m \u001b[0mSolution\u001b[0m\u001b[1;33m(\u001b[0m\u001b[1;33m)\u001b[0m\u001b[1;33m\u001b[0m\u001b[0m\n\u001b[1;32m---> 62\u001b[1;33m \u001b[0ms\u001b[0m\u001b[1;33m.\u001b[0m\u001b[0mcomplexNumberMultiply\u001b[0m\u001b[1;33m(\u001b[0m\u001b[1;36m3\u001b[0m\u001b[1;33m,\u001b[0m\u001b[1;36m4\u001b[0m\u001b[1;33m)\u001b[0m\u001b[1;33m\u001b[0m\u001b[0m\n\u001b[0m\u001b[0;32m     63\u001b[0m \u001b[1;33m\u001b[0m\u001b[0m\n\u001b[0;32m     64\u001b[0m \u001b[1;33m\u001b[0m\u001b[0m\n",
      "\u001b[1;32m<ipython-input-3-d64b1105bda9>\u001b[0m in \u001b[0;36mcomplexNumberMultiply\u001b[1;34m(self, a, b)\u001b[0m\n\u001b[0;32m     48\u001b[0m \u001b[1;32mclass\u001b[0m \u001b[0mSolution\u001b[0m\u001b[1;33m(\u001b[0m\u001b[0mobject\u001b[0m\u001b[1;33m)\u001b[0m\u001b[1;33m:\u001b[0m\u001b[1;33m\u001b[0m\u001b[0m\n\u001b[0;32m     49\u001b[0m     \u001b[1;32mdef\u001b[0m \u001b[0mcomplexNumberMultiply\u001b[0m\u001b[1;33m(\u001b[0m\u001b[0mself\u001b[0m\u001b[1;33m,\u001b[0m \u001b[0ma\u001b[0m\u001b[1;33m,\u001b[0m \u001b[0mb\u001b[0m\u001b[1;33m)\u001b[0m\u001b[1;33m:\u001b[0m\u001b[1;33m\u001b[0m\u001b[0m\n\u001b[1;32m---> 50\u001b[1;33m         \u001b[1;32mif\u001b[0m \u001b[0mlen\u001b[0m\u001b[1;33m(\u001b[0m\u001b[0ma\u001b[0m\u001b[1;33m)\u001b[0m\u001b[1;33m==\u001b[0m\u001b[0mlen\u001b[0m\u001b[1;33m(\u001b[0m\u001b[0mb\u001b[0m\u001b[1;33m)\u001b[0m\u001b[1;33m:\u001b[0m\u001b[1;33m\u001b[0m\u001b[0m\n\u001b[0m\u001b[0;32m     51\u001b[0m             \u001b[1;32mif\u001b[0m \u001b[0mlen\u001b[0m\u001b[1;33m(\u001b[0m\u001b[0ma\u001b[0m\u001b[1;33m)\u001b[0m\u001b[1;33m==\u001b[0m\u001b[1;36m4\u001b[0m\u001b[1;33m:\u001b[0m\u001b[1;33m\u001b[0m\u001b[0m\n\u001b[0;32m     52\u001b[0m                 \u001b[1;32mreturn\u001b[0m \u001b[0mstr\u001b[0m\u001b[1;33m(\u001b[0m\u001b[0mint\u001b[0m\u001b[1;33m(\u001b[0m\u001b[0ma\u001b[0m\u001b[1;33m[\u001b[0m\u001b[1;36m0\u001b[0m\u001b[1;33m]\u001b[0m\u001b[1;33m)\u001b[0m\u001b[1;33m*\u001b[0m\u001b[0mint\u001b[0m\u001b[1;33m(\u001b[0m\u001b[0mb\u001b[0m\u001b[1;33m[\u001b[0m\u001b[1;36m0\u001b[0m\u001b[1;33m]\u001b[0m\u001b[1;33m)\u001b[0m\u001b[1;33m-\u001b[0m\u001b[0mint\u001b[0m\u001b[1;33m(\u001b[0m\u001b[0ma\u001b[0m\u001b[1;33m[\u001b[0m\u001b[1;36m2\u001b[0m\u001b[1;33m]\u001b[0m\u001b[1;33m)\u001b[0m\u001b[1;33m*\u001b[0m\u001b[0mint\u001b[0m\u001b[1;33m(\u001b[0m\u001b[0mb\u001b[0m\u001b[1;33m[\u001b[0m\u001b[1;36m2\u001b[0m\u001b[1;33m]\u001b[0m\u001b[1;33m)\u001b[0m\u001b[1;33m)\u001b[0m\u001b[1;33m+\u001b[0m\u001b[1;34m'+'\u001b[0m\u001b[1;33m+\u001b[0m\u001b[0mstr\u001b[0m\u001b[1;33m(\u001b[0m\u001b[0mint\u001b[0m\u001b[1;33m(\u001b[0m\u001b[0mb\u001b[0m\u001b[1;33m[\u001b[0m\u001b[1;36m2\u001b[0m\u001b[1;33m]\u001b[0m\u001b[1;33m)\u001b[0m\u001b[1;33m*\u001b[0m\u001b[0mint\u001b[0m\u001b[1;33m(\u001b[0m\u001b[0ma\u001b[0m\u001b[1;33m[\u001b[0m\u001b[1;36m0\u001b[0m\u001b[1;33m]\u001b[0m\u001b[1;33m)\u001b[0m\u001b[1;33m+\u001b[0m\u001b[0mint\u001b[0m\u001b[1;33m(\u001b[0m\u001b[0ma\u001b[0m\u001b[1;33m[\u001b[0m\u001b[1;36m2\u001b[0m\u001b[1;33m]\u001b[0m\u001b[1;33m)\u001b[0m\u001b[1;33m*\u001b[0m\u001b[0mint\u001b[0m\u001b[1;33m(\u001b[0m\u001b[0mb\u001b[0m\u001b[1;33m[\u001b[0m\u001b[1;36m0\u001b[0m\u001b[1;33m]\u001b[0m\u001b[1;33m)\u001b[0m\u001b[1;33m)\u001b[0m\u001b[1;33m+\u001b[0m\u001b[1;34m'i'\u001b[0m\u001b[1;33m\u001b[0m\u001b[0m\n",
      "\u001b[1;31mTypeError\u001b[0m: object of type 'int' has no len()"
     ]
    }
   ],
   "source": [
    "# my solution 错误理解题意 原来ab是两个输入啊\n",
    "class Solution(object):\n",
    "    def complexNumberMultiply(self, a, b):\n",
    "        \"\"\"\n",
    "        :type a: str\n",
    "        :type b: str\n",
    "        :rtype: str\n",
    "        \"\"\"\n",
    "        while a==b:\n",
    "            if a==0:\n",
    "                return '0+0i'\n",
    "            else:\n",
    "                return str(0)+'+'+str(2*a*b)+'i'\n",
    "        \n",
    "        while a != b:\n",
    "            if a==0 and b!=0:\n",
    "                return '-'+str(b*b)+'+'+str(0)+'i'\n",
    "            elif a!=0 and b==0:\n",
    "                return str(a*a)+'+'+str(0)+'i'\n",
    "            else:\n",
    "                return str(a*a-b*b)+ '+'+str(2*a*b)+'i'\n",
    "s = Solution()\n",
    "s.complexNumberMultiply(3,4)\n",
    "\n",
    "\n",
    "# my solution 2 题意理解正确 ，但是解题过程中容易混淆a[0] a[2] b[0] b[2] 而且还超时了\n",
    "class Solution(object):\n",
    "    def complexNumberMultiply(self, a, b):\n",
    "        \"\"\"\n",
    "        :type a: str\n",
    "        :type b: str\n",
    "        :rtype: str\n",
    "        \"\"\"\n",
    "        while len(a)==len(b):\n",
    "            if len(a)==4:\n",
    "                return str(int(a[0])*int(b[0])-int(a[2])*int(b[2]))+'+'+str(int(b[2])*int(a[0])+int(a[2])*int(b[0]))+'i'\n",
    "            if len(a)==5:\n",
    "                return str(int(a[0])*int(b[0])-int(a[3])*int(b[3]))+'+-'+str(int(b[3])*int(a[0])+int(a[3])*int(b[0]))+'i'\n",
    "        \n",
    "        while len(a)!=len(b):\n",
    "            if len(a)==4:\n",
    "                return str(int(a[0])*int(b[0])+int(a[2])*int(b[3]))+'+'+str(int(b[0])*int(a[2])-int(a[0])*int(b[3]))+'i'\n",
    "            if len(a)==5:\n",
    "                return str(int(a[0])*int(b[0])+int(a[3])*int(b[2]))+'+'+str(int(b[2])*int(a[0])-int(a[3])*int(b[0]))+'i'\n",
    "                \n",
    "                \n",
    "# optimized code\n",
    "class Solution(object):\n",
    "    def complexNumberMultiply(self, a, b):\n",
    "        if len(a)==len(b):\n",
    "            if len(a)==4:\n",
    "                return str(int(a[0])*int(b[0])-int(a[2])*int(b[2]))+'+'+str(int(b[2])*int(a[0])+int(a[2])*int(b[0]))+'i'\n",
    "            else:\n",
    "                return str(int(a[0])*int(b[0])-int(a[3])*int(b[3]))+'+-'+str(int(b[3])*int(a[0])+int(a[3])*int(b[0]))+'i'\n",
    "        else:\n",
    "            if len(a)==4:\n",
    "                return str(int(a[0])*int(b[0])+int(a[2])*int(b[3]))+'+'+str(int(b[0])*int(a[2])-int(a[0])*int(b[3]))+'i'\n",
    "            else:\n",
    "                return str(int(a[0])*int(b[0])+int(a[3])*int(b[2]))+'+'+str(int(b[2])*int(a[0])-int(a[3])*int(b[0]))+'i'\n",
    "                         \n",
    "                \n",
    "## 这两种方法都错了，别优化了。。。思路不对！！这样得考虑16种情况了！"
   ]
  },
  {
   "cell_type": "code",
   "execution_count": null,
   "metadata": {
    "collapsed": true
   },
   "outputs": [],
   "source": [
    "# discuss\n",
    "## method 1 完美的Python代码 三行\n",
    "class Solution(object):\n",
    "    def complexNumberMultiply(self, a, b):\n",
    "        a1, a2 = map(int, a[:-1].split('+'))\n",
    "        b1, b2 = map(int, b[:-1].split('+'))\n",
    "        return '%d+%di' % (a1 * b1 - a2 * b2, a1 * b2 + a2 * b1)"
   ]
  },
  {
   "cell_type": "code",
   "execution_count": null,
   "metadata": {
    "collapsed": true
   },
   "outputs": [],
   "source": [
    "## method 2 z正确的思路怎么写都对，错误的思路越想越复杂\n",
    "class Solution(object):\n",
    "    def complexNumberMultiply(self, a, b):\n",
    "        a = a.split(\"+\")\n",
    "        b = b.split(\"+\")\n",
    "        first = int(a[0]) * int(b[0]) - int(a[1][:-1]) * int(b[1][:-1])\n",
    "        second = int(a[0]) * int(b[1][:-1]) + int(b[0]) * int(a[1][:-1])\n",
    "        return str(first) + \"+\" + str(second) + \"i\""
   ]
  },
  {
   "cell_type": "code",
   "execution_count": null,
   "metadata": {
    "collapsed": true
   },
   "outputs": [],
   "source": [
    "## method 3 智商欠费啊\n",
    "```Here we have two complex numbers represented as a+bi and c+di.\n",
    "By the rule of polynomial multiplications, the result will look like (ac-bd)+(ad+bc)i.\n",
    "So this will be a new A+Bi which I represented in res_a+res_bi in below code.\n",
    "```\n",
    "def complexNumberMultiply(self, a, b):\n",
    "    m = a; n = b\n",
    "    \n",
    "    a, b = m.replace(\"i\", \"\").split(\"+\")\n",
    "    c, d = n.replace(\"i\", \"\").split(\"+\")\n",
    "    \n",
    "    a, b, c, d = int(a), int(b), int(c), int(d)\n",
    "    \n",
    "    res_a = a*c-b*d\n",
    "    res_b = a*d+b*c\n",
    "    \n",
    "    res = str(res_a) + \"+\" + str(res_b) + \"i\"\n",
    "    \n",
    "    return res"
   ]
  }
 ],
 "metadata": {
  "kernelspec": {
   "display_name": "Python 2",
   "language": "python",
   "name": "python2"
  },
  "language_info": {
   "codemirror_mode": {
    "name": "ipython",
    "version": 2
   },
   "file_extension": ".py",
   "mimetype": "text/x-python",
   "name": "python",
   "nbconvert_exporter": "python",
   "pygments_lexer": "ipython2",
   "version": "2.7.12"
  }
 },
 "nbformat": 4,
 "nbformat_minor": 0
}
