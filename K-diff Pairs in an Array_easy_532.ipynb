{
 "cells": [
  {
   "cell_type": "markdown",
   "metadata": {},
   "source": [
    "Given an array of integers and an integer k, you need to find the number of unique k-diff pairs in the array. Here a k-diff pair is defined as an integer pair (i, j), where i and j are both numbers in the array and their absolute difference is k.\n",
    "\n",
    "Example 1:\n",
    "Input: [3, 1, 4, 1, 5], k = 2\n",
    "Output: 2\n",
    "Explanation: There are two 2-diff pairs in the array, (1, 3) and (3, 5).\n",
    "Although we have two 1s in the input, we should only return the number of unique pairs.\n",
    "Example 2:\n",
    "Input:[1, 2, 3, 4, 5], k = 1\n",
    "Output: 4\n",
    "Explanation: There are four 1-diff pairs in the array, (1, 2), (2, 3), (3, 4) and (4, 5).\n",
    "Example 3:\n",
    "Input: [1, 3, 1, 5, 4], k = 0\n",
    "Output: 1\n",
    "Explanation: There is one 0-diff pair in the array, (1, 1).\n",
    "Note:\n",
    "The pairs (i, j) and (j, i) count as the same pair.\n",
    "The length of the array won't exceed 10,000.\n",
    "All the integers in the given input belong to the range: [-1e7, 1e7].\n"
   ]
  },
  {
   "cell_type": "code",
   "execution_count": 2,
   "metadata": {
    "collapsed": false
   },
   "outputs": [
    {
     "ename": "SyntaxError",
     "evalue": "invalid syntax (<ipython-input-2-f46ff09c3c6d>, line 14)",
     "output_type": "error",
     "traceback": [
      "\u001b[1;36m  File \u001b[1;32m\"<ipython-input-2-f46ff09c3c6d>\"\u001b[1;36m, line \u001b[1;32m14\u001b[0m\n\u001b[1;33m    kv_reverse = [v:k for k,v in kv.items() ]\u001b[0m\n\u001b[1;37m                   ^\u001b[0m\n\u001b[1;31mSyntaxError\u001b[0m\u001b[1;31m:\u001b[0m invalid syntax\n"
     ]
    }
   ],
   "source": [
    "def findPairs(nums, k):\n",
    "        \"\"\"\n",
    "        :type nums: List[int]\n",
    "        :type k: int\n",
    "        :rtype: int\n",
    "        \"\"\"\n",
    "        count = 0\n",
    "        kv = {}\n",
    "        for i in range(len(nums)):\n",
    "            for j in range(len(nums)):\n",
    "                if abs(nums[i]-nums[j])==k:\n",
    "                    count += 1\n",
    "                    kv[i]=j\n",
    "        kv_reverse = [v:k for k,v in kv.items() ]\n",
    "        for k in kv.keys():\n",
    "            if kv[k] in kv_reverse:\n",
    "                count -=1\n",
    "                    \n",
    "        print count\n",
    "nums = [3, 1, 4, 1, 5]\n",
    "k =2\n",
    "findPairs(nums,k)"
   ]
  },
  {
   "cell_type": "code",
   "execution_count": 12,
   "metadata": {
    "collapsed": false
   },
   "outputs": [
    {
     "name": "stdout",
     "output_type": "stream",
     "text": [
      "{1: 3, 3: 5, 5: 3}\n"
     ]
    },
    {
     "data": {
      "text/plain": [
       "{3: 5, 5: 3}"
      ]
     },
     "execution_count": 12,
     "metadata": {},
     "output_type": "execute_result"
    }
   ],
   "source": [
    "count = 0\n",
    "kv={}\n",
    "nums = [3, 1, 4, 1, 5]\n",
    "k=2\n",
    "for i in range(len(nums)):\n",
    "    for j in range(len(nums)):\n",
    "        if abs(nums[i]-nums[j])==k:\n",
    "            count += 1\n",
    "            kv[nums[i]]=nums[j]\n",
    "print kv\n",
    "kv_reverse = dict([(v,k) for k,v in kv.iteritems()]) \n",
    "\n",
    "kv_reverse"
   ]
  },
  {
   "cell_type": "code",
   "execution_count": 14,
   "metadata": {
    "collapsed": false
   },
   "outputs": [
    {
     "name": "stdout",
     "output_type": "stream",
     "text": [
      "2\n"
     ]
    }
   ],
   "source": [
    "class Solution(object):\n",
    "    def findPairs(self, nums, k):\n",
    "        \"\"\"\n",
    "        :type nums: List[int]\n",
    "        :type k: int\n",
    "        :rtype: int\n",
    "        \"\"\"\n",
    "        count = 0\n",
    "        n = len(nums)-len(set(nums)) # 若某一个数重复好几次呐。。。这个方法又不行\n",
    "        sorted_nums = sorted(set(nums))\n",
    "        sorted_nums.reverse()\n",
    "        if k==0:\n",
    "            print n\n",
    "           \n",
    "        else:\n",
    "            for i in range(len(sorted_nums)):\n",
    "                for j in range(len(sorted_nums)):\n",
    "                    if sorted_nums[i]-sorted_nums[j]==k:\n",
    "                        count += 1\n",
    "        print count\n",
    "        \n",
    "s = Solution()\n",
    "nums = [3, 1, 4, 1, 5]\n",
    "k=1\n",
    "s.findPairs(nums, k)"
   ]
  },
  {
   "cell_type": "code",
   "execution_count": null,
   "metadata": {
    "collapsed": true
   },
   "outputs": [],
   "source": [
    "# discuss\n",
    "## method 1 这个解法太完美了吧 加k 取交集 k=0 counter。。怎么想到的？果真人生苦短，我用Python 但是你得先熟悉啊\n",
    "def findPairs(self, nums, k):\n",
    "        if k>0:\n",
    "            return len(set(nums)&set(n+k for n in nums))\n",
    "        elif k==0:\n",
    "            sum(v>1 for v in collections.Counter(nums).values())\n",
    "        else:\n",
    "            return 0\n",
    "        \n",
    "## 等价代码\n",
    "def findPairs(self, nums, k):\n",
    "       return len(set(nums)&{n+k for n in nums}) if k>0 else sum(v>1 for v in collections.Counter(nums).values()) if k==0 else 0\n"
   ]
  },
  {
   "cell_type": "code",
   "execution_count": null,
   "metadata": {
    "collapsed": true
   },
   "outputs": [],
   "source": [
    "## method 2 collections是个好库啊 善于利用\n",
    "def findPairs(self, nums, k):\n",
    "        res = 0\n",
    "        c = collections.Counter(nums)\n",
    "        for i in c:\n",
    "            if k > 0 and i + k in c or k == 0 and c[i] > 1:\n",
    "                res += 1\n",
    "        return res\n",
    "    \n",
    "## 等价代码\n",
    "def findPairs(self, nums, k):\n",
    "        c = collections.Counter(nums)\n",
    "        return  sum(k > 0 and i + k in c or k == 0 and c[i] > 1 for i in c)\n"
   ]
  },
  {
   "cell_type": "code",
   "execution_count": 23,
   "metadata": {
    "collapsed": false
   },
   "outputs": [
    {
     "name": "stdout",
     "output_type": "stream",
     "text": [
      "[1, 3, 4, 5, 7]\n",
      "set([1])\n",
      "[3, 4, 5, 7]\n",
      "add set([1, 3])\n",
      "add set([1, 3, 4])\n",
      "add set([1, 3, 4, 5])\n",
      "add set([1, 3, 4, 5, 7])\n",
      "3\n"
     ]
    }
   ],
   "source": [
    "## 你想一个小时想不出来 网上一堆人想出来啊\n",
    "## method3 72ms\n",
    "# def findPairs( nums, k):\n",
    "#         \"\"\"\n",
    "#         :type nums: List[int]\n",
    "#         :type k: int\n",
    "#         :rtype: int\n",
    "#         \"\"\"\n",
    "nums = [3, 1, 4, 1, 5,7,3]\n",
    "k=2\n",
    "from collections import Counter\n",
    "if k == 0:\n",
    "    c = Counter(nums)\n",
    "    print len(filter(lambda x:x[1]>1, c.items()))\n",
    "nums = list(set(nums))\n",
    "nums.sort()\n",
    "print nums\n",
    "seen = set(nums[:1])\n",
    "print seen\n",
    "c = 0\n",
    "print nums[1:]\n",
    "for i in nums[1:]:\n",
    "    if i-k in seen:\n",
    "        c += 1\n",
    "    seen.add(i)\n",
    "    print 'add',seen\n",
    "print c\n",
    "\n",
    "#findPairs(nums,k)"
   ]
  },
  {
   "cell_type": "code",
   "execution_count": null,
   "metadata": {
    "collapsed": true
   },
   "outputs": [],
   "source": [
    "## method3  排序 二分搜索？强无敌啊 这都能想到   O(nlgn) and O(n)\n",
    "rtype = 0\n",
    "mydict = {}\n",
    "for item in nums:\n",
    "mydict[item] = mydict.get(item,0) + 1\n",
    "if k<0:\n",
    "return 0\n",
    "if k==0:\n",
    "for value in mydict.itervalues():\n",
    "if value >1:\n",
    "rtype += 1\n",
    "else:\n",
    "for i in nums:\n",
    "print mydict[i]\n",
    "if mydict[i]>0:\n",
    "temp1 = -k + i\n",
    "temp2 = k+i\n",
    "#print i\n",
    "#print temp2\n",
    "mydict[i] = 0\n",
    "if mydict.get(temp1) and mydict[temp1]>0:\n",
    "rtype += 1\n",
    "print temp1\n",
    "print i\n",
    "if mydict.get(temp2) and mydict[temp2]>0:\n",
    "rtype += 1\n",
    "print temp2\n",
    "print i"
   ]
  },
  {
   "cell_type": "markdown",
   "metadata": {},
   "source": [
    "## 收获\n",
    "1、明白了list.reverse() list.sort() 他们是原地排序，不需要重新赋值，不让报错；而且reversed() sorted()也是不一样 前者是生成器，后者不是，而且不是原地排序\n",
    "2、字典中的键值反转\n",
    "+ 生成器表达式 dict((v,k) for k,v in d.iteritems())  \n",
    "+ 列表生成式 dict([(v,k) for k,v in d.items()])  \n",
    "+ 提高大数据效率\n",
    "```python\n",
    "from itertools import izip  \n",
    "  \n",
    "  \n",
    "def invert_dict3(d):  \n",
    "    return dict(izip(d.itervalues(),d.iterkeys())) \n",
    "```\n",
    "**注意** 但是这3种方法在遇到字典中有值相等的都会失效！不知道为什么？灵光一闪，键必须唯一啊\n",
    "**items iteritems** iteritems():items()和iteritems()方法都普遍用于for循环的迭代中，不同的是items()返回的是列表对象，而iteritems()返回的是迭代器对象。两者的用法差不多，但iteritems()的性能更快\n",
    "\n",
    "3、collections \n",
    "[廖雪峰教程好好看啊](http://www.liaoxuefeng.com/wiki/001374738125095c955c1e6d8bb493182103fac9270762a000/001411031239400f7181f65f33a4623bc42276a605debf6000)\n",
    "\n",
    "4.set常用\n",
    "add"
   ]
  }
 ],
 "metadata": {
  "anaconda-cloud": {},
  "kernelspec": {
   "display_name": "Python 2",
   "language": "python",
   "name": "python2"
  },
  "language_info": {
   "codemirror_mode": {
    "name": "ipython",
    "version": 2
   },
   "file_extension": ".py",
   "mimetype": "text/x-python",
   "name": "python",
   "nbconvert_exporter": "python",
   "pygments_lexer": "ipython2",
   "version": "2.7.12"
  }
 },
 "nbformat": 4,
 "nbformat_minor": 1
}
