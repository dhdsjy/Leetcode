{
 "cells": [
  {
   "cell_type": "markdown",
   "metadata": {},
   "source": [
    "Given a non-empty array of integers, return the third maximum number in this array. If it does not exist, return the maximum number. The time complexity must be in O(n).\n",
    "\n",
    "Example 1:\n",
    "Input: [3, 2, 1]\n",
    "\n",
    "Output: 1\n",
    "\n",
    "Explanation: The third maximum is 1.\n",
    "Example 2:\n",
    "Input: [1, 2]\n",
    "\n",
    "Output: 2\n",
    "\n",
    "Explanation: The third maximum does not exist, so the maximum (2) is returned instead.\n",
    "Example 3:\n",
    "Input: [2, 2, 3, 1]\n",
    "\n",
    "Output: 1\n",
    "\n",
    "Explanation: Note that the third maximum here means the third maximum distinct number.\n",
    "Both numbers with value 2 are both considered as second maximum."
   ]
  },
  {
   "cell_type": "code",
   "execution_count": 2,
   "metadata": {
    "collapsed": false
   },
   "outputs": [
    {
     "data": {
      "text/plain": [
       "1"
      ]
     },
     "execution_count": 2,
     "metadata": {},
     "output_type": "execute_result"
    }
   ],
   "source": [
    "# my solution beats 20.08% 68ms\n",
    "class Solution(object):\n",
    "    def thirdMax(self, nums):\n",
    "        \"\"\"\n",
    "        :type nums: List[int]\n",
    "        :rtype: int\n",
    "        \"\"\"\n",
    "        dist_nums = set(nums)\n",
    "        if len(dist_nums )<3:\n",
    "            return max(nums)\n",
    "        else:\n",
    "            return sorted(dist_nums)[-3]\n",
    "        \n",
    "n = [2, 2, 3, 1]\n",
    "s = Solution()\n",
    "s.thirdMax(n)"
   ]
  },
  {
   "cell_type": "code",
   "execution_count": null,
   "metadata": {
    "collapsed": true
   },
   "outputs": [],
   "source": [
    "## Discuss\n",
    "## method 1 beats 48.46% 52ms\n",
    "nums = set(nums)\n",
    "        if len(nums) < 3:\n",
    "            return max(nums)\n",
    "        nums.remove(max(nums))\n",
    "        nums.remove(max(nums))\n",
    "        return max(nums)"
   ]
  },
  {
   "cell_type": "code",
   "execution_count": null,
   "metadata": {
    "collapsed": true
   },
   "outputs": [],
   "source": [
    "## method 2 一段看不懂的代码\n",
    "v = [float('-inf'), float('-inf'), float('-inf')]\n",
    "        for num in nums:\n",
    "            if num not in v:\n",
    "                if num > v[0]:   v = [num, v[0], v[1]]\n",
    "                elif num > v[1]: v = [v[0], num, v[1]]\n",
    "                elif num > v[2]: v = [v[0], v[1], num]\n",
    "        return max(nums) if float('-inf') in v else v[2]\n",
    "\n",
    "    \n",
    "import sys\n",
    "class Solution(object):\n",
    "    def thirdMax(self, nums):\n",
    "        \"\"\"\n",
    "        :type nums: List[int]\n",
    "        :rtype: int\n",
    "        \"\"\"\n",
    "        one = two = three = -sys.maxint\n",
    "        for i in nums:\n",
    "            if i > one:\n",
    "                one, two, three = i, one, two\n",
    "            elif i > two and i < one:\n",
    "                two, three = i, two\n",
    "            elif i > three and i < two:\n",
    "                three = i\n",
    "        return three if three != -sys.maxint else one\n",
    "    \n",
    "    "
   ]
  },
  {
   "cell_type": "markdown",
   "metadata": {},
   "source": [
    "[一个有意思的discuss](https://discuss.leetcode.com/topic/63962/python-2-5-lines-o-n-time-o-1-space/9)"
   ]
  },
  {
   "cell_type": "code",
   "execution_count": null,
   "metadata": {
    "collapsed": true
   },
   "outputs": [],
   "source": [
    "## method 4 beats73.43% 和我同样的代码逻辑啊\n",
    "nums = sorted(list(set(nums))) # 别人一开始就排好序 了 你没判断一次就排一次\n",
    "        if len(nums) < 3: return max(nums)\n",
    "        else: return nums[-3]"
   ]
  },
  {
   "cell_type": "code",
   "execution_count": null,
   "metadata": {
    "collapsed": true
   },
   "outputs": [],
   "source": [
    "## method 5\n",
    "def thirdMax(self, nums):\n",
    "    try:\n",
    "        s = list(set(nums))\n",
    "        m1, m2, m3 = sorted(s[:3], reverse=True)\n",
    "        for i in s[3:]:\n",
    "            if i > m1:\n",
    "                m1, m2, m3 = i, m1, m2\n",
    "            elif m1 > i > m2:\n",
    "                m2, m3 = i, m2\n",
    "            elif m2 > i > m3:\n",
    "                m3 = i\n",
    "        return m3\n",
    "    except:\n",
    "        return max(nums)"
   ]
  },
  {
   "cell_type": "code",
   "execution_count": null,
   "metadata": {
    "collapsed": true
   },
   "outputs": [],
   "source": [
    "## method 6 优先队列\n",
    "import heapq\n",
    "class Solution(object):\n",
    "    def thirdMax(self, nums):\n",
    "        \"\"\"\n",
    "        :type nums: List[int]\n",
    "        :rtype: int\n",
    "        \"\"\"\n",
    "        heap=[]\n",
    "        sets=set()\n",
    "        for i in nums:\n",
    "            if i not in sets:\n",
    "                sets.add(i)\n",
    "                heapq.heappush(heap, i)\n",
    "        if len(heap)<3:\n",
    "            return heap[-1]\n",
    "        return heapq.nlargest(3,heap)[-1]"
   ]
  }
 ],
 "metadata": {
  "kernelspec": {
   "display_name": "Python 2",
   "language": "python",
   "name": "python2"
  },
  "language_info": {
   "codemirror_mode": {
    "name": "ipython",
    "version": 2
   },
   "file_extension": ".py",
   "mimetype": "text/x-python",
   "name": "python",
   "nbconvert_exporter": "python",
   "pygments_lexer": "ipython2",
   "version": "2.7.12"
  }
 },
 "nbformat": 4,
 "nbformat_minor": 1
}
