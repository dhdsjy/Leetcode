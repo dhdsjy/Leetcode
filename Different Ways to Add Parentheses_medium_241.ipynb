{
 "cells": [
  {
   "cell_type": "markdown",
   "metadata": {},
   "source": [
    "Given a string of numbers and operators, return all possible results from computing all the different possible ways to group numbers and operators. The valid operators are +, - and *.\n",
    "\n",
    "\n",
    "Example 1\n",
    "Input: \"2-1-1\".\n",
    "\n",
    "((2-1)-1) = 0\n",
    "(2-(1-1)) = 2\n",
    "Output: [0, 2]\n",
    "\n",
    "\n",
    "Example 2\n",
    "Input: \"2*3-4*5\"\n",
    "\n",
    "(2*(3-(4*5))) = -34\n",
    "((2*3)-(4*5)) = -14\n",
    "((2*(3-4))*5) = -10\n",
    "(2*((3-4)*5)) = -10\n",
    "(((2*3)-4)*5) = 10\n",
    "Output: [-34, -14, -10, -10, 10]"
   ]
  },
  {
   "cell_type": "code",
   "execution_count": null,
   "metadata": {
    "collapsed": true
   },
   "outputs": [],
   "source": []
  }
 ],
 "metadata": {
  "kernelspec": {
   "display_name": "Python 2",
   "language": "python",
   "name": "python2"
  },
  "language_info": {
   "codemirror_mode": {
    "name": "ipython",
    "version": 2
   },
   "file_extension": ".py",
   "mimetype": "text/x-python",
   "name": "python",
   "nbconvert_exporter": "python",
   "pygments_lexer": "ipython2",
   "version": "2.7.12"
  }
 },
 "nbformat": 4,
 "nbformat_minor": 0
}
