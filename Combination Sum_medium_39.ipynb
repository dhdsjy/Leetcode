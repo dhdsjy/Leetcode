{
 "cells": [
  {
   "cell_type": "markdown",
   "metadata": {},
   "source": [
    "Given a set of candidate numbers (C) (without duplicates) and a target number (T), find all unique combinations in C where the candidate numbers sums to T.\n",
    "\n",
    "The same repeated number may be chosen from C unlimited number of times.\n",
    "\n",
    "Note:\n",
    "All numbers (including target) will be positive integers.\n",
    "The solution set must not contain duplicate combinations.\n",
    "For example, given candidate set [2, 3, 6, 7] and target 7, \n",
    "A solution set is: \n",
    "[\n",
    "  [7],\n",
    "  [2, 2, 3]\n",
    "]"
   ]
  },
  {
   "cell_type": "code",
   "execution_count": 2,
   "metadata": {
    "collapsed": false
   },
   "outputs": [
    {
     "name": "stdout",
     "output_type": "stream",
     "text": [
      "this is result2 [[1]]\n",
      "this is partial [[1]]\n",
      "this is result1 [[1, 1]]\n",
      "this is result2 [[1, 1], [2]]\n",
      "this is partial [[1, 1], [2]]\n",
      "this is result1 [[1, 1, 1]]\n",
      "this is result1 [[1, 1, 1], [2, 1]]\n",
      "this is partial []\n"
     ]
    },
    {
     "data": {
      "text/plain": [
       "[[1, 1, 1], [2, 1]]"
      ]
     },
     "execution_count": 2,
     "metadata": {},
     "output_type": "execute_result"
    }
   ],
   "source": [
    "# Discuss method 1 dfs 的理解还是不深刻啊 别人的程序都看了好几个小时才看懂\n",
    "#递归过程细节的理解真是通过 我觉得这题目不应该这么理解，按理说，递归程序应该好理解 循环不好理解啊\n",
    "class Solution(object):\n",
    "    def combinationSum(self, candidates, target):\n",
    "        \"\"\"\n",
    "        :type candidates: List[int]\n",
    "        :type target: int\n",
    "        :rtype: List[List[int]]\n",
    "        \"\"\"\n",
    "        candidates.sort()\n",
    "        return self.helper(candidates, target)\n",
    "        \n",
    "    def helper(self, candidates, target):\n",
    "        if target < candidates[0]:\n",
    "            return []\n",
    "        result = []\n",
    "        for i in range(len(candidates)):\n",
    "            c = candidates[i]\n",
    "            if c < target:\n",
    "                partial = self.helper(candidates[i:], target - c)\n",
    "                print 'this is partial',partial\n",
    "                if partial:\n",
    "                    for l in partial:\n",
    "                        l.append(c)\n",
    "                        result.append(l)\n",
    "                        print 'this is result1',result\n",
    "            elif c == target:\n",
    "                result.append([c])\n",
    "                print 'this is result2',result\n",
    "            else:\n",
    "                break\n",
    "        return result\n",
    "s = Solution()\n",
    "s.combinationSum([1,2],3)"
   ]
  }
 ],
 "metadata": {
  "kernelspec": {
   "display_name": "Python 2",
   "language": "python",
   "name": "python2"
  },
  "language_info": {
   "codemirror_mode": {
    "name": "ipython",
    "version": 2
   },
   "file_extension": ".py",
   "mimetype": "text/x-python",
   "name": "python",
   "nbconvert_exporter": "python",
   "pygments_lexer": "ipython2",
   "version": "2.7.12"
  }
 },
 "nbformat": 4,
 "nbformat_minor": 0
}
