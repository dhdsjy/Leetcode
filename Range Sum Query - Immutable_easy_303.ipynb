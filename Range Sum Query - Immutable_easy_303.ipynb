{
 "cells": [
  {
   "cell_type": "markdown",
   "metadata": {},
   "source": [
    "Given an integer array nums, find the sum of the elements between indices i and j (i ≤ j), inclusive.\n",
    "\n",
    "Example:\n",
    "Given nums = [-2, 0, 3, -5, 2, -1]\n",
    "\n",
    "sumRange(0, 2) -> 1\n",
    "sumRange(2, 5) -> -1\n",
    "sumRange(0, 5) -> -3\n",
    "Note:\n",
    "You may assume that the array does not change.\n",
    "There are many calls to sumRange function."
   ]
  },
  {
   "cell_type": "code",
   "execution_count": null,
   "metadata": {
    "collapsed": true
   },
   "outputs": [],
   "source": [
    "# my solution 虽然逻辑简单 但是我就是不能按照题意输出，编程 可能是面向对象掌握的不好吧\n",
    "class NumArray(object):\n",
    "\n",
    "    def __init__(self, nums):\n",
    "        \"\"\"\n",
    "        :type nums: List[int]\n",
    "        \"\"\"\n",
    "        nums = self.nums\n",
    "        \n",
    "\n",
    "    def sumRange(self, i, j):\n",
    "        \"\"\"\n",
    "        :type i: int\n",
    "        :type j: int\n",
    "        :rtype: int\n",
    "        \"\"\"\n",
    "        i =self.i\n",
    "        j = self.j\n",
    "        sub = nums[i:j].append(nums[j])\n",
    "        return sum(sub)"
   ]
  },
  {
   "cell_type": "code",
   "execution_count": null,
   "metadata": {
    "collapsed": true
   },
   "outputs": [],
   "source": [
    "#Discuss\n",
    "## method 1 \n",
    "class NumArray(object):\n",
    "    def __init__(self, nums):\n",
    "        self.dp = nums\n",
    "        for i in xrange(1, len(nums)):\n",
    "            self.dp[i] += self.dp[i-1]\n",
    "\n",
    "    def sumRange(self, i, j):\n",
    "        return self.dp[j] - (self.dp[i-1] if i > 0 else 0)"
   ]
  },
  {
   "cell_type": "code",
   "execution_count": null,
   "metadata": {
    "collapsed": true
   },
   "outputs": [],
   "source": [
    "# method 2 use dict\n",
    "class NumArray(object):\n",
    "    def __init__(self, nums):\n",
    "        \"\"\"\n",
    "        initialize your data structure here.\n",
    "        :type nums: List[int]\n",
    "        \"\"\"\n",
    "        self.dc = {-1:0}\n",
    "        for i,v in enumerate(nums):\n",
    "            self.dc[i] = self.dc[i-1] + v\n",
    "\n",
    "    def sumRange(self, i, j):\n",
    "        \"\"\"\n",
    "        sum of elements nums[i..j], inclusive.\n",
    "        :type i: int\n",
    "        :type j: int\n",
    "        :rtype: int\n",
    "        \"\"\"\n",
    "        return self.dc[j]-self.dc[i-1]"
   ]
  },
  {
   "cell_type": "code",
   "execution_count": null,
   "metadata": {
    "collapsed": true
   },
   "outputs": [],
   "source": [
    "# solution 3 O(n) O(n)\n",
    "def __init__(self, nums):\n",
    "    \"\"\"\n",
    "    initialize your data structure here.\n",
    "    :type nums: List[int]\n",
    "    \"\"\"\n",
    "    self.nums = nums\n",
    "    self.sumList = []\n",
    "    sum = 0\n",
    "    for index in range(len(nums)):\n",
    "        sum += nums[index]\n",
    "        (self.sumList).append(sum)\n",
    "\n",
    "def sumRange(self, i, j):\n",
    "    \"\"\"\n",
    "    sum of elements nums[i..j], inclusive.\n",
    "    :type i: int\n",
    "    :type j: int\n",
    "    :rtype: int\n",
    "    \"\"\"\n",
    "    return self.sumList[j] - self.sumList[i] + self.nums[i]"
   ]
  },
  {
   "cell_type": "code",
   "execution_count": null,
   "metadata": {
    "collapsed": true
   },
   "outputs": [],
   "source": [
    "# method 4\n",
    "class NumArray(object):\n",
    "    def __init__(self, nums):\n",
    "        \"\"\"\n",
    "        initialize your data structure here.\n",
    "        :type nums: List[int]\n",
    "        \"\"\"\n",
    "        self.sums = [0] * (len(nums) + 1)\n",
    "        for i in xrange(len(nums)):\n",
    "            self.sums[i+1] = self.sums[i] + nums[i]\n",
    "\n",
    "    def sumRange(self, i, j):\n",
    "        \"\"\"\n",
    "        sum of elements nums[i..j], inclusive.\n",
    "        :type i: int\n",
    "        :type j: int\n",
    "        :rtype: int\n",
    "        \"\"\"\n",
    "        return self.sums[j+1] - self.sums[i]"
   ]
  },
  {
   "cell_type": "markdown",
   "metadata": {},
   "source": [
    "## 收获\n",
    "1、发现Python中的面向对象也不熟啊，没有面向对象的思维方法，也没有模块化的思想"
   ]
  }
 ],
 "metadata": {
  "kernelspec": {
   "display_name": "Python 2",
   "language": "python",
   "name": "python2"
  },
  "language_info": {
   "codemirror_mode": {
    "name": "ipython",
    "version": 2
   },
   "file_extension": ".py",
   "mimetype": "text/x-python",
   "name": "python",
   "nbconvert_exporter": "python",
   "pygments_lexer": "ipython2",
   "version": "2.7.12"
  }
 },
 "nbformat": 4,
 "nbformat_minor": 1
}
