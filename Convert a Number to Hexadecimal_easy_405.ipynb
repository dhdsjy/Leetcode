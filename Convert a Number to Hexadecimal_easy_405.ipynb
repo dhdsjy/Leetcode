{
 "cells": [
  {
   "cell_type": "markdown",
   "metadata": {},
   "source": [
    "Given an integer, write an algorithm to convert it to hexadecimal. For negative integer, two’s complement method is used.\n",
    "\n",
    "Note:\n",
    "\n",
    "All letters in hexadecimal (a-f) must be in lowercase.\n",
    "The hexadecimal string must not contain extra leading 0s. If the number is zero, it is represented by a single zero character '0'; otherwise, the first character in the hexadecimal string will not be the zero character.\n",
    "The given number is guaranteed to fit within the range of a 32-bit signed integer.\n",
    "You must not use any method provided by the library which converts/formats the number to hex directly.\n",
    "Example 1:\n",
    "\n",
    "Input:\n",
    "26\n",
    "\n",
    "Output:\n",
    "\"1a\"\n",
    "Example 2:\n",
    "\n",
    "Input:\n",
    "-1\n",
    "\n",
    "Output:\n",
    "\"ffffffff\""
   ]
  },
  {
   "cell_type": "markdown",
   "metadata": {},
   "source": [
    "### 补码的作用\n",
    "在计算机系统中，数值一律用补码来表示和存储。原因在于，使用补码，可以将符号位和数值域统一处理；同时，加法和减法也可以统一处理。此外，补码与原码相互转换，其运算过程是相同的，不需要额外的硬件电路。\n",
    "\n",
    "### 补码特性\n",
    "\n",
    "1、一个负整数（或原码）与其补数（或补码）相加，和为模。\n",
    "2、对一个整数的补码再求补码，等于该整数自身。\n",
    "3、补码的正零与负零表示方法相同。\n",
    "\n",
    "### 小数补码求法\n",
    "小数补码求法\n",
    "一种简单的方式，符号位保持1不变，数值位从右边数第一个1及其右边的0保持不变，左边按位取反。"
   ]
  },
  {
   "cell_type": "code",
   "execution_count": 8,
   "metadata": {
    "collapsed": false
   },
   "outputs": [
    {
     "data": {
      "text/plain": [
       "[6, 6]"
      ]
     },
     "execution_count": 8,
     "metadata": {},
     "output_type": "execute_result"
    }
   ],
   "source": [
    "\n",
    "\n",
    "# my solution version 1\n",
    "class Solution(object):\n",
    "    def toHex(self, num):\n",
    "        \"\"\"\n",
    "        :type num: int\n",
    "        :rtype: str\n",
    "        \"\"\"\n",
    "        if num == 0:\n",
    "            return \"0\"\n",
    "        else:\n",
    "            quot = num\n",
    "            lists = []\n",
    "            while quot >= 16:\n",
    "                quot = num/16\n",
    "                \n",
    "                remain = quot%16\n",
    "                lists.append(remain)\n",
    "            lists.append(quot)\n",
    "            listed = [i for i in lists[::-1]]\n",
    "            return listed\n",
    "s = Solution()\n",
    "s.toHex(100)\n",
    "            "
   ]
  },
  {
   "cell_type": "code",
   "execution_count": null,
   "metadata": {
    "collapsed": true
   },
   "outputs": [],
   "source": [
    "# my solution version 2\n",
    "class Solution(object):\n",
    "    def toHex(self, num):\n",
    "        \"\"\"\n",
    "        :type num: int\n",
    "        :rtype: str\n",
    "        \"\"\"\n",
    "        if num == 0:\n",
    "            return \"0\"\n",
    "        else:\n",
    "            while num > 0:\n",
    "                result = '0123456789abcdef'[num%16]+result\n",
    "                num/=16\n",
    "                return result\n",
    "            while num < 0:\n",
    "                num = -num\n",
    "                while num > 0:\n",
    "                    result = '01'[num%2]+ result\n",
    "                    num /=2\n",
    "                    radix=list(result)[0]\n",
    "                for i in list(result)[1:]:\n",
    "                    radix.append(i)\n",
    "                    if num < 0:\n",
    "        num = num + 2**32\n",
    "                    \n",
    "                    \n",
    "                "
   ]
  },
  {
   "cell_type": "code",
   "execution_count": null,
   "metadata": {
    "collapsed": true
   },
   "outputs": [],
   "source": [
    "# my solution version 3 ac beats 94.26%  36ms\n",
    "class Solution(object):\n",
    "    def toHex(self, num):\n",
    "        \"\"\"\n",
    "        :type num: int\n",
    "        :rtype: str\n",
    "        \"\"\"\n",
    "        \n",
    "        if num == 0:\n",
    "            return \"0\"\n",
    "        if num < 0:\n",
    "            num += 2**32\n",
    "        result = ''\n",
    "        while num > 0:\n",
    "            result = '0123456789abcdef'[num%16]+result\n",
    "            num/=16\n",
    "        return result\n",
    "            "
   ]
  },
  {
   "cell_type": "code",
   "execution_count": null,
   "metadata": {
    "collapsed": true
   },
   "outputs": [],
   "source": [
    "#discuss\n",
    "## method 1\n",
    "class Solution(object):\n",
    "     def toHex(self, num):\n",
    "        if num==0: return '0'\n",
    "        mp = '0123456789abcdef'  # like a map\n",
    "        ans = ''\n",
    "        for i in range(8):#OJ considers 32-bit int. One hex number is represented by 4 bits. Then 32/4=8.\n",
    "            n = num & 15       # this means num & 1111b\n",
    "            c = mp[n]          # get the hex char \n",
    "            ans = c + ans\n",
    "            num = num >> 4\n",
    "        return ans.lstrip('0')  #strip leading zeroes\n",
    "    \n",
    "## 关于负数的处理\n",
    " #    for negative, the number is already in two’s complement representation in binary, \n",
    "# so what we need to do is to transfer binary into Hexa, that is why it can handle negative numbers."
   ]
  },
  {
   "cell_type": "markdown",
   "metadata": {},
   "source": [
    "## 知识点\n",
    "[原码 反码 补码](http://blog.sina.com.cn/s/blog_56d8ea900100y65b.html)\n",
    "[负数在进制间的转换](http://blog.csdn.net/xiaochunyong/article/details/7616625)\n",
    "\n",
    "**原码** 一个正数，按照绝对值大小转换成的二进制数；一个负数按照绝对值大小转换成的二进制数，然后最高位补1，称为原码。\n",
    "\n",
    "**反码** 正数的反码与原码相同，负数的反码为对该数的原码除符号位外各位取反[每一位取反(除符号位)]。\n",
    "\n",
    "**补码** 正数的补码与原码相同，负数的补码为对该数的原码除符号位外各位取反，然后在最后一位加1；简单来说，就是反码加1\n",
    "\n",
    "对于负数,先取绝对值,然后求反,加一\n",
    "-128 -> 128 -> 1000 0000 -> 0111 1111 -> 1000 0000\n",
    "\n",
    "负数转换成八进制、十六进制，只需在补码(二进制)的基础上，3位合成一位计算，或者4位合成一位计算"
   ]
  },
  {
   "cell_type": "markdown",
   "metadata": {},
   "source": [
    "## Python 位运算符\n",
    "a 为 60，b 为 13\n",
    "+ &\t按位与运算符：参与运算的两个值,如果两个相应位都为1,则该位的结果为1,否则为0\t(a & b) 输出结果 12 ，二进制解释： 0000 1100\n",
    "+ |\t按位或运算符：只要对应的二个二进位有一个为1时，结果位就为1。\t(a | b) 输出结果 61 ，二进制解释： 0011 1101\n",
    "+ ^\t按位异或运算符：当两对应的二进位相异时，结果为1\t(a ^ b) 输出结果 49 ，二进制解释： 0011 0001\n",
    "+ ~\t按位取反运算符：对数据的每个二进制位取反,即把1变为0,把0变为1\t(~a ) 输出结果 -61 ，二进制解释： 1100 0011， 在一个有符号二进制数的补码形式。\n",
    "+ <<\t左移n位，相当于乘以$2^n$ 左移动运算符：运算数的各二进位全部左移若干位，由\"<<\"右边的数指定移动的位数，高位丢弃，低位补0。\ta << 2 输出结果 240 ，二进制解释： 1111 0000\n",
    "+  >>\t右移n位，相当于乘以$2^{-n}$ 右移动运算符：把\">>\"左边的运算数的各二进位全部右移若干位，\">>\"右边的数指定移动的位数\ta >> 2 输出结果 15 ，二进制解释： 0000 1111"
   ]
  },
  {
   "cell_type": "code",
   "execution_count": 21,
   "metadata": {
    "collapsed": false
   },
   "outputs": [
    {
     "data": {
      "text/plain": [
       "'1a'"
      ]
     },
     "execution_count": 21,
     "metadata": {},
     "output_type": "execute_result"
    }
   ],
   "source": [
    "# Parsing string with base into a number is easy \n",
    "#num = int(str, radix) \n",
    "   \n",
    "# We have to write our own function for outputting to string with arbitrary base \n",
    "def itoa(num, radix): \n",
    "  result = \"\" \n",
    "  while num > 0: \n",
    "    result = \"0123456789abcdefghijklmnopqrstuvwxyz\"[num % radix] + result \n",
    "    num /= radix \n",
    "  return result \n",
    "#该代码片段来自于: http://www.sharejs.com/codes/python/4556\n",
    "\n",
    "itoa(26,16)"
   ]
  },
  {
   "cell_type": "code",
   "execution_count": 17,
   "metadata": {
    "collapsed": false
   },
   "outputs": [
    {
     "name": "stdout",
     "output_type": "stream",
     "text": [
      "[15, 4, 2, 4, 0]\n"
     ]
    }
   ],
   "source": [
    "a = 1000000\n",
    "l=[]\n",
    "while a>0:\n",
    "    i=a%16\n",
    "    a=a/16\n",
    "    l.insert(0,i)\n",
    "print l\n",
    "     \n",
    "\n"
   ]
  }
 ],
 "metadata": {
  "kernelspec": {
   "display_name": "Python 2",
   "language": "python",
   "name": "python2"
  },
  "language_info": {
   "codemirror_mode": {
    "name": "ipython",
    "version": 2
   },
   "file_extension": ".py",
   "mimetype": "text/x-python",
   "name": "python",
   "nbconvert_exporter": "python",
   "pygments_lexer": "ipython2",
   "version": "2.7.12"
  }
 },
 "nbformat": 4,
 "nbformat_minor": 0
}
