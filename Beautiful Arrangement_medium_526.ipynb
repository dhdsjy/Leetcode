{
 "cells": [
  {
   "cell_type": "markdown",
   "metadata": {},
   "source": [
    "Suppose you have N integers from 1 to N. We define a beautiful arrangement as an array that is constructed by these N numbers successfully if one of the following is true for the ith position (1 ≤ i ≤ N) in this array:\n",
    "\n",
    "The number at the ith position is divisible by i.\n",
    "i is divisible by the number at the ith position.\n",
    "Now given N, how many beautiful arrangements can you construct?\n",
    "\n",
    "Example 1:\n",
    "Input: 2\n",
    "Output: 2\n",
    "Explanation: \n",
    "\n",
    "The first beautiful arrangement is [1, 2]:\n",
    "\n",
    "Number at the 1st position (i=1) is 1, and 1 is divisible by i (i=1).\n",
    "\n",
    "Number at the 2nd position (i=2) is 2, and 2 is divisible by i (i=2).\n",
    "\n",
    "The second beautiful arrangement is [2, 1]:\n",
    "\n",
    "Number at the 1st position (i=1) is 2, and 2 is divisible by i (i=1).\n",
    "\n",
    "Number at the 2nd position (i=2) is 1, and i (i=2) is divisible by 1.\n",
    "Note:\n",
    "N is a positive integer and will not exceed 15."
   ]
  },
  {
   "cell_type": "markdown",
   "metadata": {},
   "source": [
    "有个比较笨的思路，先用dfs来个全排列，然后对每个排列进行判断\n"
   ]
  },
  {
   "cell_type": "code",
   "execution_count": null,
   "metadata": {
    "collapsed": true
   },
   "outputs": [],
   "source": [
    "# 213ms 71%\n",
    "def countArrangement(self, N):\n",
    "    def count(i, X):\n",
    "        if i == 1:\n",
    "            return 1\n",
    "        return sum(count(i - 1, X - {x})\n",
    "                   for x in X\n",
    "                   if x % i == 0 or i % x == 0)\n",
    "    return count(N, set(range(1, N + 1)))"
   ]
  },
  {
   "cell_type": "code",
   "execution_count": null,
   "metadata": {
    "collapsed": true
   },
   "outputs": [],
   "source": [
    "# discuss dp https://discuss.leetcode.com/topic/73134/python-solution-with-detailed-explanation\n",
    "cache = {}\n",
    "class Solution(object):\n",
    "    def countArrangement(self, N):\n",
    "        def helper(i, X):\n",
    "            if i == 1:\n",
    "                return 1\n",
    "            key = (i, X)\n",
    "            if key in cache:\n",
    "                return cache[key]\n",
    "            total = 0\n",
    "            for j in xrange(len(X)):\n",
    "                if X[j] % i == 0 or i % X[j] == 0:\n",
    "                    total += helper(i - 1, X[:j] + X[j + 1:])\n",
    "            cache[key] = total\n",
    "            return total\n",
    "        return helper(N, tuple(range(1, N + 1)))\n",
    "   \n",
    "# 另一个DP\n",
    "class Solution(object):\n",
    "    def countArrangement(self, N):\n",
    "        \"\"\"\n",
    "        :type N: int\n",
    "        :rtype: int\n",
    "        \"\"\"\n",
    "        if N is 0:\n",
    "            return 0\n",
    "        def helper(num,state=()):\n",
    "            if num == 1:\n",
    "                return 1\n",
    "            key = num,state\n",
    "            if key in cache:\n",
    "                return cache[key]\n",
    "            generator = ( helper(num - 1, state[:j] + state[j + 1:]) for j, x in enumerate(state) if x % num == 0 or num % x == 0)\n",
    "            cache[key] = sum(generator)\n",
    "            return cache[key]\n",
    "        return helper(N,tuple(range(1,N+1)))"
   ]
  },
  {
   "cell_type": "code",
   "execution_count": null,
   "metadata": {
    "collapsed": true
   },
   "outputs": [],
   "source": [
    "# bfd 思路 有点超时\n",
    "counter = 0\n",
    "        queue = []\n",
    "        x = []\n",
    "        queue.append(x);\n",
    "        while(len(queue) >0):\n",
    "            x = queue.pop()\n",
    "            if len(x) == N:\n",
    "                counter+=1\n",
    "            else:\n",
    "                for i in range(1,N+1):\n",
    "                    y = x[:]\n",
    "                    if i not in y:\n",
    "                        if (i % (len(y)+1) ==0) or ((1+len(y)) % i ==0):\n",
    "                            y.append(i)\n",
    "                            queue.append(y)\n",
    "        return counter"
   ]
  },
  {
   "cell_type": "code",
   "execution_count": null,
   "metadata": {
    "collapsed": true
   },
   "outputs": [],
   "source": [
    "# dfs https://discuss.leetcode.com/topic/81444/python-simple-dfs-solution\n",
    "class Solution(object):\n",
    "    def countArrangement(self, N):\n",
    "        \"\"\"\n",
    "        :type N: int\n",
    "        :rtype: int\n",
    "        \"\"\"\n",
    "        if not N or N < 1:\n",
    "            return 0\n",
    "\n",
    "        visited = [False]*N\n",
    "        count = [0]\n",
    "        self.helper(visited, N, 0, count)\n",
    "\n",
    "        return count[0]\n",
    "\n",
    "    def helper(self, visited, N, i, count):\n",
    "        if i == N:\n",
    "            count[0] += 1\n",
    "            return\n",
    "\n",
    "        for n in range(N):\n",
    "            divisible = ((n+1) % (i+1) == 0) or ((i+1) % (n+1)== 0)\n",
    "            if not visited[n] and divisible:\n",
    "                visited[n] = True\n",
    "                self.helper(visited, N, i+1, count)\n",
    "                visited[n] = False"
   ]
  },
  {
   "cell_type": "code",
   "execution_count": null,
   "metadata": {
    "collapsed": true
   },
   "outputs": [],
   "source": [
    "# 3 lines https://discuss.leetcode.com/topic/80522/3-liner-dfs-with-trie-perspective-detailed-explanation-with-picture-illustration\n"
   ]
  },
  {
   "cell_type": "code",
   "execution_count": null,
   "metadata": {
    "collapsed": true
   },
   "outputs": [],
   "source": [
    "# Python. Beats 93% of solutions\n",
    "def helper(self, used ,p ):\n",
    "    if p == len(self.a): \n",
    "        return 1\n",
    "    counter = 0\n",
    "    for i in self.a[p]:\n",
    "        if i not in used:\n",
    "            newUsed = used|{i} \n",
    "            if newUsed not in self.memo:\n",
    "                self.memo[newUsed] = self.helper(newUsed , p+1)\n",
    "            counter += self.memo[newUsed]\n",
    "    return counter\n",
    "    \n",
    "def countArrangement(self, N):\n",
    "    self.memo = {}\n",
    "    #generate the possible numbers for each position\n",
    "    self.a = [ {j for j in range(1,N+1) if i%j==0 or j%i ==0} for i in range(1,N+1) ] \n",
    "    #sort them based on length. This will decrease run time. Think about how this will prioritize placing a number at positions with fewer options\n",
    "    self.a.sort(key = lambda x: len(x))\n",
    "    return self.helper(frozenset() , 0)"
   ]
  }
 ],
 "metadata": {
  "kernelspec": {
   "display_name": "Python 2",
   "language": "python",
   "name": "python2"
  },
  "language_info": {
   "codemirror_mode": {
    "name": "ipython",
    "version": 2
   },
   "file_extension": ".py",
   "mimetype": "text/x-python",
   "name": "python",
   "nbconvert_exporter": "python",
   "pygments_lexer": "ipython2",
   "version": "2.7.12"
  }
 },
 "nbformat": 4,
 "nbformat_minor": 0
}
