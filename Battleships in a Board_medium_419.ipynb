{
 "cells": [
  {
   "cell_type": "markdown",
   "metadata": {},
   "source": [
    "Given an 2D board, count how many battleships are in it. The battleships are represented with 'X's, empty slots are represented with '.'s. You may assume the following rules:\n",
    "\n",
    "You receive a valid board, made of only battleships or empty slots.\n",
    "Battleships can only be placed horizontally or vertically. In other words, they can only be made of the shape 1xN (1 row, N columns) or Nx1 (N rows, 1 column), where N can be of any size.\n",
    "At least one horizontal or vertical cell separates between two battleships - there are no adjacent battleships.\n",
    "Example:\n",
    "X..X\n",
    "...X\n",
    "...X\n",
    "In the above board there are 2 battleships.\n",
    "Invalid Example:\n",
    "...X\n",
    "XXXX\n",
    "...X\n",
    "This is an invalid board that you will not receive - as battleships will always have a cell separating between them.\n",
    "Follow up:\n",
    "Could you do it in one-pass, using only O(1) extra memory and without modifying the value of the board?"
   ]
  },
  {
   "cell_type": "markdown",
   "metadata": {},
   "source": [
    "这个题目关键是要两个方面\n",
    "１　读懂题意\n",
    "２　找到突破口\n",
    "在小伙帮的帮助下，还是解决了这个问题\n",
    "题目就是相当于将舰艇分块，只要没有同一个舰艇同时属于两个块就行\n",
    "\n",
    "突破口：遍历的时候，保证舰艇的上面和左面不是舰艇就可以了　但是第一行和第一列要注意，当时不知道怎么考虑"
   ]
  },
  {
   "cell_type": "code",
   "execution_count": null,
   "metadata": {
    "collapsed": true
   },
   "outputs": [],
   "source": [
    "## my solution\n",
    "class Solution(object):\n",
    "    def countBattleships(self, board):\n",
    "        \"\"\"\n",
    "        :type board: List[List[str]]\n",
    "        :rtype: int\n",
    "        \"\"\"\n",
    "        result = 0\n",
    "        \n",
    "        nrow = len(board)\n",
    "        ncol = len(board[0])\n",
    "        for i in range(nrow):\n",
    "            for j in range(ncol):\n",
    "                if board[i][j]=='X' and (j==0 or board[i][j-1]=='.') and (i ==0 or board[i-1][j]=='.'):\n",
    "                #if board[i][j]=='X' and board[i][j-1]!='X' and board[i-1][j]!='X':\n",
    "                \n",
    "                    result += 1\n",
    "        return result\n",
    "        #print board[0][1]=='.'\n",
    "        #print nrow,ncol\n",
    "        "
   ]
  }
 ],
 "metadata": {
  "anaconda-cloud": {},
  "kernelspec": {
   "display_name": "Python [conda root]",
   "language": "python",
   "name": "conda-root-py"
  },
  "language_info": {
   "codemirror_mode": {
    "name": "ipython",
    "version": 2
   },
   "file_extension": ".py",
   "mimetype": "text/x-python",
   "name": "python",
   "nbconvert_exporter": "python",
   "pygments_lexer": "ipython2",
   "version": "2.7.12"
  }
 },
 "nbformat": 4,
 "nbformat_minor": 1
}
