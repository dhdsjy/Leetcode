{
 "cells": [
  {
   "cell_type": "markdown",
   "metadata": {
    "collapsed": true
   },
   "source": [
    "# Description\n",
    "\"\"\"\n",
    "Write a program that outputs the string representation of numbers from 1 to n.\n",
    "But for multiples of three it should output “Fizz” instead of the number and\n",
    "for the multiples of five output “Buzz”. For numbers which are multiples of \n",
    "both three and five output “FizzBuzz”.\n",
    "\"\"\"\n",
    "# example\n",
    "\"\"\"\n",
    "n = 15,\n",
    "\n",
    "Return:\n",
    "[\n",
    "    \"1\",\n",
    "    \"2\",\n",
    "    \"Fizz\",\n",
    "    \"4\",\n",
    "    \"Buzz\",\n",
    "    \"Fizz\",\n",
    "    \"7\",\n",
    "    \"8\",\n",
    "    \"Fizz\",\n",
    "    \"Buzz\",\n",
    "    \"11\",\n",
    "    \"Fizz\",\n",
    "    \"13\",\n",
    "    \"14\",\n",
    "    \"FizzBuzz\"\n",
    "]\n",
    "\"\"\""
   ]
  },
  {
   "cell_type": "code",
   "execution_count": 4,
   "metadata": {
    "collapsed": false
   },
   "outputs": [
    {
     "data": {
      "text/plain": [
       "['1',\n",
       " '2',\n",
       " 'Fizz',\n",
       " '3',\n",
       " '4',\n",
       " 'Buzz',\n",
       " 'Fizz',\n",
       " '6',\n",
       " '7',\n",
       " '8',\n",
       " 'Fizz',\n",
       " '9',\n",
       " 'Buzz',\n",
       " '11',\n",
       " 'Fizz',\n",
       " '12',\n",
       " '13',\n",
       " '14',\n",
       " 'FizzBuzz']"
      ]
     },
     "execution_count": 4,
     "metadata": {},
     "output_type": "execute_result"
    }
   ],
   "source": [
    "# my solution  beat 30%\n",
    "class Solution(object):\n",
    "    def fizzBuzz(self, n):\n",
    "        \"\"\"\n",
    "        :type n: int\n",
    "        :rtype: List[str]\n",
    "        \"\"\"\n",
    "        result = []\n",
    "        for i in range(1,n+1):\n",
    "            \n",
    "            if i%3 == 0 and i%5 == 0:\n",
    "                result.append('FizzBuzz')\n",
    "            else:\n",
    "                if i%3 == 0 :\n",
    "                    result.append('Fizz')\n",
    "                elif i%5 == 0:               # 如果将这个换成if 就会报错 就会重复计算 3 一次 fizz一次\n",
    "                    result.append('Buzz')\n",
    "                else:\n",
    "                    result.append(str(i))\n",
    "        return result\n",
    "    \n",
    "s = Solution()\n",
    "s.fizzBuzz(15)\n"
   ]
  },
  {
   "cell_type": "code",
   "execution_count": 5,
   "metadata": {
    "collapsed": false
   },
   "outputs": [
    {
     "data": {
      "text/plain": [
       "['1',\n",
       " '2',\n",
       " 'Fizz',\n",
       " '4',\n",
       " 'Buzz',\n",
       " 'Fizz',\n",
       " '7',\n",
       " '8',\n",
       " 'Fizz',\n",
       " 'Buzz',\n",
       " '11',\n",
       " 'Fizz',\n",
       " '13',\n",
       " '14',\n",
       " 'FizzBuzz']"
      ]
     },
     "execution_count": 5,
     "metadata": {},
     "output_type": "execute_result"
    }
   ],
   "source": [
    "# discuss\n",
    "## method 1 列表推导式  当时也想用 ，但是不知道如何表达\n",
    "class Solution(object):\n",
    "    def fizzBuzz(self, n):\n",
    "        return ['Fizz'*(not i%3) + 'Buzz'*(not i%5) + str(i)*((i%3 and i%5) > 0) for i in range(1, n+1)]\n",
    "\n",
    "s = Solution()\n",
    "s.fizzBuzz(15)\n",
    "\n"
   ]
  },
  {
   "cell_type": "code",
   "execution_count": null,
   "metadata": {
    "collapsed": true
   },
   "outputs": [],
   "source": [
    "## method 2 列表表达式就是这么灵活 beat 62.45% 82ms\n",
    "return [str(i) if (i%3!=0 and i%5!=0) else (('Fizz'*(i%3==0)) + ('Buzz'*(i%5==0))) for i in range(1,n+1)]"
   ]
  },
  {
   "cell_type": "markdown",
   "metadata": {},
   "source": [
    "## 收获\n",
    "+ not 非0即1（False True Python中默认为 0 1）  利用字符串乘法的特性，在这里也就是有没有这个字符了\n",
    "+ if 和elif究竟有什么区别？Python中条件判断有3种形式如下\n",
    "  + if \n",
    "  + if else 前面两个比较好理解，一个简单的条件判断 但是和break continue结合使用，功能也是非常强大的 else跟着if出现，且只能出现一次 \n",
    "  + if elif else 同样 if else只能出现一次 但elif可出现多次 这也就是在满足多个条件时要输出不同的语句时需要使用这个，语法如下\n",
    "  **注意** 2、3中的else是不能设置条件，这就体现了elif的强大了\n",
    "  ```python\n",
    "  if expression1:\n",
    "       statement(s)\n",
    "  elif expression2:\n",
    "       statement(s)\n",
    "  elif expression3:\n",
    "       statement(s)\n",
    "  else:\n",
    "       statement(s)\n",
    "  ```\n",
    "  \n",
    "  ### example for if else and if elif else\n",
    "```python\n",
    "#if else 描述的并不准确\n",
    ">>>num = 0\n",
    ">>>if num > 0 :\n",
    ">>>    print '这个数比0大'\n",
    ">>>else :\n",
    ">>>    print '这个数比0小'\n",
    "\n",
    "#程序分别对if和elif做了判断，如果条件不为真，则输出else的语句块内容。程序运行结果是：这个数是0\n",
    ">>>num = 0\n",
    ">>>if num > 0 :\n",
    ">>>    print '这个数比0大'\n",
    ">>>elif num < 0 :\n",
    ">>>    print '这个数比0小'\n",
    ">>>else :\n",
    ">>>    print '这个数是0'\n",
    "```\n",
    "[玩蛇网if](http://www.iplaypy.com/jinjie/else-elif.html)\n",
    "[csdn if](http://blog.csdn.net/ithomer/article/details/6065772)"
   ]
  }
 ],
 "metadata": {
  "kernelspec": {
   "display_name": "Python 2",
   "language": "python",
   "name": "python2"
  },
  "language_info": {
   "codemirror_mode": {
    "name": "ipython",
    "version": 2
   },
   "file_extension": ".py",
   "mimetype": "text/x-python",
   "name": "python",
   "nbconvert_exporter": "python",
   "pygments_lexer": "ipython2",
   "version": "2.7.12"
  }
 },
 "nbformat": 4,
 "nbformat_minor": 0
}
