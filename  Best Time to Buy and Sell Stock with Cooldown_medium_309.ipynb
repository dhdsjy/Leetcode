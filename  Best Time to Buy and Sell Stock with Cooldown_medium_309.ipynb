{
 "cells": [
  {
   "cell_type": "markdown",
   "metadata": {},
   "source": [
    "Say you have an array for which the ith element is the price of a given stock on day i.\n",
    "\n",
    "Design an algorithm to find the maximum profit. You may complete as many transactions as you like (ie, buy one and sell one share of the stock multiple times) with the following restrictions:\n",
    "\n",
    "You may not engage in multiple transactions at the same time (ie, you must sell the stock before you buy again).\n",
    "After you sell your stock, you cannot buy stock on next day. (ie, cooldown 1 day)\n",
    "Example:\n",
    "\n",
    "prices = [1, 2, 3, 0, 2]\n",
    "maxProfit = 3\n",
    "transactions = [buy, sell, cooldown, buy, sell]"
   ]
  },
  {
   "cell_type": "markdown",
   "metadata": {},
   "source": [
    "又是动态规划！这个和背包问题最长子串、最长公共序列不一样啊 我都画不出二维表 竟然有3个状态\n",
    "还是看看discuss 看看大神怎么解决的吧\n",
    "\n",
    "**状态**\n",
    "First, think about what we can do on day i? You either have one stock or you don't on day i. For each case, you have two options, making a total of four possible actions on day i:\n",
    "\n",
    "you have 1 stock and you sell it\n",
    "you have 1 stock and you do nothing\n",
    "you have 0 stock and you buy stock i\n",
    "you have 0 stock and you do nothing\n",
    "\n",
    "**状态转移**\n",
    "if you take action 1 on day i ==> you have either taken action 2 or 3 on day i-1\n",
    "if you take action 2 on day i ==> you have either taken action 2 or 3 on day i-1\n",
    "if you take action 3 on day i ==> you must have taken action 4 on day i-1 (you can not sell on day i-1 due to cool down)\n",
    "if you take action 4 on day i ==> you have either taken action 1 or 4 on day i-1"
   ]
  },
  {
   "cell_type": "code",
   "execution_count": null,
   "metadata": {
    "collapsed": true
   },
   "outputs": [],
   "source": [
    "# Discuss\n",
    "## method 1\n",
    "def maxProfit(self, prices):\n",
    "    free = 0\n",
    "    have = cool = float('-inf')\n",
    "    for p in prices:\n",
    "        free, have, cool = max(free, cool), max(have, free - p), have + p\n",
    "    return max(free, cool)\n",
    "\n"
   ]
  },
  {
   "cell_type": "code",
   "execution_count": 4,
   "metadata": {
    "collapsed": false
   },
   "outputs": [
    {
     "data": {
      "text/plain": [
       "3"
      ]
     },
     "execution_count": 4,
     "metadata": {},
     "output_type": "execute_result"
    }
   ],
   "source": [
    "## method 2 看不懂，，。\n",
    "\n",
    "\n",
    "class Solution(object):\n",
    "    def maxProfit(self, prices):\n",
    "        \"\"\"\n",
    "        :type prices: List[int]\n",
    "        :rtype: int\n",
    "        \"\"\"\n",
    "        if not prices or len(prices) < 2: return 0\n",
    "        n = len(prices)\n",
    "        buy, sell = [0] * n, [0] * n\n",
    "        buy[0] = -prices[0]\n",
    "        buy[1] = max(-prices[0], -prices[1])\n",
    "        sell[1] = max(0, prices[1] - prices[0])\n",
    "        for i in xrange(2, n):\n",
    "            buy[i] = max(sell[i - 2] - prices[i], buy[i - 1])\n",
    "            sell[i] = max(buy[i - 1] + prices[i], sell[i - 1])\n",
    "    \n",
    "        return sell[n - 1]\n",
    "prices = [1,2,3,0,2]\n",
    "s = Solution()\n",
    "s.maxProfit(prices)\n"
   ]
  },
  {
   "cell_type": "code",
   "execution_count": 2,
   "metadata": {
    "collapsed": false
   },
   "outputs": [
    {
     "data": {
      "text/plain": [
       "3"
      ]
     },
     "execution_count": 2,
     "metadata": {},
     "output_type": "execute_result"
    }
   ],
   "source": [
    "## 56ms 49%\n",
    "\n",
    "class Solution(object):\n",
    "    def maxProfit(self, prices):\n",
    "        \"\"\"\n",
    "        :type prices: List[int]\n",
    "        :rtype: int\n",
    "        \"\"\"\n",
    "        if not prices or len(prices) < 2: return 0\n",
    "        n = len(prices)\n",
    "        buy, sell = [0] * n, [0] * n\n",
    "        buy[0] = -prices[0]\n",
    "        buy[1] = max(-prices[0], -prices[1])\n",
    "        sell[1] = max(0, prices[1] - prices[0])\n",
    "        for i in xrange(2, n):\n",
    "            buy[i] = max(sell[i - 2] - prices[i], buy[i - 1])# 手上没有stock时，第i天利润最大\n",
    "            sell[i] = max(buy[i - 1] + prices[i], sell[i - 1])# 手上有stock时，第i天利润最大\n",
    "    \n",
    "        return max(max(buy),max(sell)) # 改成这样比较好理解\n",
    "prices = [1,2,3,0,2]\n",
    "s = Solution()\n",
    "s.maxProfit(prices)"
   ]
  },
  {
   "cell_type": "code",
   "execution_count": null,
   "metadata": {
    "collapsed": true
   },
   "outputs": [],
   "source": [
    "## method 3 也是服了这些人\n",
    "class Solution(object):\n",
    "    def maxProfit(self, prices):\n",
    "        \"\"\"\n",
    "        :type prices: List[int]\n",
    "        :rtype: int\n",
    "        \"\"\"\n",
    "        return max(reduce(lambda (rest,buy,sell),val:(max(rest,sell),max(rest-val,buy),buy+val),prices[1:],(0,-prices[0],float(\"-inf\")))[::2]) if prices else 0"
   ]
  }
 ],
 "metadata": {
  "kernelspec": {
   "display_name": "Python 2",
   "language": "python",
   "name": "python2"
  },
  "language_info": {
   "codemirror_mode": {
    "name": "ipython",
    "version": 2
   },
   "file_extension": ".py",
   "mimetype": "text/x-python",
   "name": "python",
   "nbconvert_exporter": "python",
   "pygments_lexer": "ipython2",
   "version": "2.7.12"
  }
 },
 "nbformat": 4,
 "nbformat_minor": 0
}
